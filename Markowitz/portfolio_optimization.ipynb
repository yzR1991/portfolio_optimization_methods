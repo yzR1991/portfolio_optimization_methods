{
  "nbformat": 4,
  "nbformat_minor": 0,
  "metadata": {
    "colab": {
      "name": "portfolio_optimization.ipynb",
      "provenance": [],
      "collapsed_sections": [
        "1iKOrYFEaOCh",
        "1ZjjVaguQKvK"
      ],
      "toc_visible": true
    },
    "kernelspec": {
      "name": "python3",
      "display_name": "Python 3"
    },
    "language_info": {
      "name": "python"
    }
  },
  "cells": [
    {
      "cell_type": "markdown",
      "metadata": {
        "id": "1iKOrYFEaOCh"
      },
      "source": [
        "## 安装\n"
      ]
    },
    {
      "cell_type": "code",
      "metadata": {
        "colab": {
          "base_uri": "https://localhost:8080/",
          "height": 770
        },
        "id": "dHJs2P-GYMJs",
        "outputId": "24f24d17-cf15-43f5-ed7b-891658928efc"
      },
      "source": [
        "!pip install --upgrade pandas\n",
        "!pip install --upgrade pandas-datareader"
      ],
      "execution_count": null,
      "outputs": [
        {
          "output_type": "stream",
          "name": "stdout",
          "text": [
            "Requirement already satisfied: pandas in /usr/local/lib/python3.7/dist-packages (1.1.5)\n",
            "Collecting pandas\n",
            "  Downloading pandas-1.3.3-cp37-cp37m-manylinux_2_17_x86_64.manylinux2014_x86_64.whl (11.3 MB)\n",
            "\u001b[K     |████████████████████████████████| 11.3 MB 2.6 MB/s \n",
            "\u001b[?25hRequirement already satisfied: python-dateutil>=2.7.3 in /usr/local/lib/python3.7/dist-packages (from pandas) (2.8.2)\n",
            "Requirement already satisfied: numpy>=1.17.3 in /usr/local/lib/python3.7/dist-packages (from pandas) (1.19.5)\n",
            "Requirement already satisfied: pytz>=2017.3 in /usr/local/lib/python3.7/dist-packages (from pandas) (2018.9)\n",
            "Requirement already satisfied: six>=1.5 in /usr/local/lib/python3.7/dist-packages (from python-dateutil>=2.7.3->pandas) (1.15.0)\n",
            "Installing collected packages: pandas\n",
            "  Attempting uninstall: pandas\n",
            "    Found existing installation: pandas 1.1.5\n",
            "    Uninstalling pandas-1.1.5:\n",
            "      Successfully uninstalled pandas-1.1.5\n",
            "\u001b[31mERROR: pip's dependency resolver does not currently take into account all the packages that are installed. This behaviour is the source of the following dependency conflicts.\n",
            "google-colab 1.0.0 requires pandas~=1.1.0; python_version >= \"3.0\", but you have pandas 1.3.3 which is incompatible.\u001b[0m\n",
            "Successfully installed pandas-1.3.3\n"
          ]
        },
        {
          "output_type": "display_data",
          "data": {
            "application/vnd.colab-display-data+json": {
              "pip_warning": {
                "packages": [
                  "pandas"
                ]
              }
            }
          },
          "metadata": {}
        },
        {
          "output_type": "stream",
          "name": "stdout",
          "text": [
            "Requirement already satisfied: pandas-datareader in /usr/local/lib/python3.7/dist-packages (0.9.0)\n",
            "Collecting pandas-datareader\n",
            "  Downloading pandas_datareader-0.10.0-py3-none-any.whl (109 kB)\n",
            "\u001b[K     |████████████████████████████████| 109 kB 2.9 MB/s \n",
            "\u001b[?25hRequirement already satisfied: lxml in /usr/local/lib/python3.7/dist-packages (from pandas-datareader) (4.2.6)\n",
            "Requirement already satisfied: requests>=2.19.0 in /usr/local/lib/python3.7/dist-packages (from pandas-datareader) (2.23.0)\n",
            "Requirement already satisfied: pandas>=0.23 in /usr/local/lib/python3.7/dist-packages (from pandas-datareader) (1.3.3)\n",
            "Requirement already satisfied: numpy>=1.17.3 in /usr/local/lib/python3.7/dist-packages (from pandas>=0.23->pandas-datareader) (1.19.5)\n",
            "Requirement already satisfied: pytz>=2017.3 in /usr/local/lib/python3.7/dist-packages (from pandas>=0.23->pandas-datareader) (2018.9)\n",
            "Requirement already satisfied: python-dateutil>=2.7.3 in /usr/local/lib/python3.7/dist-packages (from pandas>=0.23->pandas-datareader) (2.8.2)\n",
            "Requirement already satisfied: six>=1.5 in /usr/local/lib/python3.7/dist-packages (from python-dateutil>=2.7.3->pandas>=0.23->pandas-datareader) (1.15.0)\n",
            "Requirement already satisfied: urllib3!=1.25.0,!=1.25.1,<1.26,>=1.21.1 in /usr/local/lib/python3.7/dist-packages (from requests>=2.19.0->pandas-datareader) (1.24.3)\n",
            "Requirement already satisfied: chardet<4,>=3.0.2 in /usr/local/lib/python3.7/dist-packages (from requests>=2.19.0->pandas-datareader) (3.0.4)\n",
            "Requirement already satisfied: idna<3,>=2.5 in /usr/local/lib/python3.7/dist-packages (from requests>=2.19.0->pandas-datareader) (2.10)\n",
            "Requirement already satisfied: certifi>=2017.4.17 in /usr/local/lib/python3.7/dist-packages (from requests>=2.19.0->pandas-datareader) (2021.5.30)\n",
            "Installing collected packages: pandas-datareader\n",
            "  Attempting uninstall: pandas-datareader\n",
            "    Found existing installation: pandas-datareader 0.9.0\n",
            "    Uninstalling pandas-datareader-0.9.0:\n",
            "      Successfully uninstalled pandas-datareader-0.9.0\n",
            "Successfully installed pandas-datareader-0.10.0\n"
          ]
        }
      ]
    },
    {
      "cell_type": "code",
      "metadata": {
        "id": "3jyGatTCWz2j"
      },
      "source": [
        "# !pip install cvxpy"
      ],
      "execution_count": null,
      "outputs": []
    },
    {
      "cell_type": "code",
      "metadata": {
        "colab": {
          "base_uri": "https://localhost:8080/",
          "height": 35
        },
        "id": "ZMeQWUprXrBS",
        "outputId": "4c566594-d635-4e5e-9659-d742d82a4368"
      },
      "source": [
        "import cvxpy as cp\n",
        "cp.__version__"
      ],
      "execution_count": null,
      "outputs": [
        {
          "output_type": "execute_result",
          "data": {
            "application/vnd.google.colaboratory.intrinsic+json": {
              "type": "string"
            },
            "text/plain": [
              "'1.0.31'"
            ]
          },
          "metadata": {},
          "execution_count": 3
        }
      ]
    },
    {
      "cell_type": "code",
      "metadata": {
        "id": "Na6Dnvq8XwjR"
      },
      "source": [
        "# import numpy as np\n",
        "\n",
        "# # Generate a random non-trivial quadratic program.\n",
        "# m = 15\n",
        "# n = 10\n",
        "# p = 5\n",
        "# np.random.seed(1)\n",
        "# P = np.random.randn(n, n)\n",
        "# P = P.T @ P\n",
        "# q = np.random.randn(n)\n",
        "# G = np.random.randn(m, n)\n",
        "# h = G @ np.random.randn(n)\n",
        "# A = np.random.randn(p, n)\n",
        "# b = np.random.randn(p)\n",
        "\n",
        "# # Define and solve the CVXPY problem.\n",
        "# x = cp.Variable(n)\n",
        "# prob = cp.Problem(cp.Minimize((1/2)*cp.quad_form(x, P) + q.T @ x),\n",
        "#                  [G @ x <= h,\n",
        "#                   A @ x == b])\n",
        "# prob.solve()\n",
        "\n",
        "# # Print result.\n",
        "# print(\"\\nThe optimal value is\", prob.value)\n",
        "# print(\"A solution x is\")\n",
        "# print(x.value)\n",
        "# print(\"A dual solution corresponding to the inequality constraints is\")\n",
        "# print(prob.constraints[0].dual_value)"
      ],
      "execution_count": null,
      "outputs": []
    },
    {
      "cell_type": "markdown",
      "metadata": {
        "id": "szX3ULP0WvHB"
      },
      "source": [
        "## 导入"
      ]
    },
    {
      "cell_type": "markdown",
      "metadata": {
        "id": "1ZjjVaguQKvK"
      },
      "source": [
        "### 部分交易代码"
      ]
    },
    {
      "cell_type": "code",
      "metadata": {
        "id": "D1feXXMVcPyT"
      },
      "source": [
        "constituents = ['00001.HK',\n",
        "'00002.HK',\n",
        "'00003.HK',\n",
        "'00005.HK',\n",
        "'00006.HK',\n",
        "'00011.HK',\n",
        "'00012.HK',\n",
        "'00016.HK',\n",
        "'00017.HK',\n",
        "'00027.HK',\n",
        "'00066.HK',\n",
        "'00101.HK',\n",
        "'00175.HK',\n",
        "'00241.HK',\n",
        "'00267.HK',\n",
        "'00288.HK',\n",
        "'00386.HK',\n",
        "'00388.HK',\n",
        "'00669.HK',\n",
        "'00688.HK',\n",
        "'00700.HK',\n",
        "'00762.HK',\n",
        "'00823.HK',\n",
        "'00857.HK',\n",
        "'00868.HK',\n",
        "'00883.HK',\n",
        "'00939.HK',\n",
        "'00941.HK',\n",
        "'00960.HK',\n",
        "'00968.HK',\n",
        "'01038.HK',\n",
        "'01044.HK',\n",
        "'01093.HK',\n",
        "'01109.HK',\n",
        "'01113.HK',\n",
        "'01177.HK',\n",
        "'01211.HK',\n",
        "'01299.HK',\n",
        "'01398.HK',\n",
        "'01810.HK',\n",
        "'01876.HK',\n",
        "'01928.HK',\n",
        "'01997.HK',\n",
        "'02007.HK',\n",
        "'02018.HK',\n",
        "'02020.HK',\n",
        "'02269.HK',\n",
        "'02313.HK',\n",
        "'02318.HK',\n",
        "'02319.HK',\n",
        "'02331.HK',\n",
        "'02382.HK',\n",
        "'02388.HK',\n",
        "'02628.HK',\n",
        "'03690.HK',\n",
        "'03968.HK',\n",
        "'03988.HK',\n",
        "'06098.HK',\n",
        "'06862.HK',\n",
        "'09988.HK']"
      ],
      "execution_count": null,
      "outputs": []
    },
    {
      "cell_type": "code",
      "metadata": {
        "id": "YpohidmSHc34",
        "colab": {
          "base_uri": "https://localhost:8080/"
        },
        "outputId": "c31b2986-6aa2-4e1b-8154-e209d3112740"
      },
      "source": [
        "constituents = [p[1:] for p in constituents]\n",
        "constituents"
      ],
      "execution_count": null,
      "outputs": [
        {
          "output_type": "execute_result",
          "data": {
            "text/plain": [
              "['0001.HK',\n",
              " '0002.HK',\n",
              " '0003.HK',\n",
              " '0005.HK',\n",
              " '0006.HK',\n",
              " '0011.HK',\n",
              " '0012.HK',\n",
              " '0016.HK',\n",
              " '0017.HK',\n",
              " '0027.HK',\n",
              " '0066.HK',\n",
              " '0101.HK',\n",
              " '0175.HK',\n",
              " '0241.HK',\n",
              " '0267.HK',\n",
              " '0288.HK',\n",
              " '0386.HK',\n",
              " '0388.HK',\n",
              " '0669.HK',\n",
              " '0688.HK',\n",
              " '0700.HK',\n",
              " '0762.HK',\n",
              " '0823.HK',\n",
              " '0857.HK',\n",
              " '0868.HK',\n",
              " '0883.HK',\n",
              " '0939.HK',\n",
              " '0941.HK',\n",
              " '0960.HK',\n",
              " '0968.HK',\n",
              " '1038.HK',\n",
              " '1044.HK',\n",
              " '1093.HK',\n",
              " '1109.HK',\n",
              " '1113.HK',\n",
              " '1177.HK',\n",
              " '1211.HK',\n",
              " '1299.HK',\n",
              " '1398.HK',\n",
              " '1810.HK',\n",
              " '1876.HK',\n",
              " '1928.HK',\n",
              " '1997.HK',\n",
              " '2007.HK',\n",
              " '2018.HK',\n",
              " '2020.HK',\n",
              " '2269.HK',\n",
              " '2313.HK',\n",
              " '2318.HK',\n",
              " '2319.HK',\n",
              " '2331.HK',\n",
              " '2382.HK',\n",
              " '2388.HK',\n",
              " '2628.HK',\n",
              " '3690.HK',\n",
              " '3968.HK',\n",
              " '3988.HK',\n",
              " '6098.HK',\n",
              " '6862.HK',\n",
              " '9988.HK']"
            ]
          },
          "metadata": {},
          "execution_count": 2
        }
      ]
    },
    {
      "cell_type": "code",
      "metadata": {
        "id": "miL5MiSpQSJK"
      },
      "source": [
        "# 大宗商品（期货），如交易量最大的石油、金、银\n",
        "\n",
        "commodities = ['USO', 'GC=F', 'SI=F']"
      ],
      "execution_count": null,
      "outputs": []
    },
    {
      "cell_type": "markdown",
      "metadata": {
        "id": "_Ewf8HP_QPAU"
      },
      "source": [
        "### 基本包"
      ]
    },
    {
      "cell_type": "code",
      "metadata": {
        "id": "SKbSVj5jWzVf"
      },
      "source": [
        "import pandas as pd\n",
        "import numpy as np\n",
        "import datetime\n",
        "import pandas_datareader.data as web\n",
        "import cvxpy as cp"
      ],
      "execution_count": null,
      "outputs": []
    },
    {
      "cell_type": "code",
      "metadata": {
        "id": "OG1PBKsoXFXd",
        "colab": {
          "base_uri": "https://localhost:8080/",
          "height": 294
        },
        "outputId": "9db0b8ff-92a5-4b78-c9cc-072d1b8f08d3"
      },
      "source": [
        "start = datetime.date(2018,1,1)\n",
        "end = datetime.date(2018,12,31)\n",
        "HSI = web.DataReader('^HSI','yahoo',start,end)\n",
        "HSI.plot(y='Close', use_index=True)"
      ],
      "execution_count": null,
      "outputs": [
        {
          "output_type": "execute_result",
          "data": {
            "text/plain": [
              "<matplotlib.axes._subplots.AxesSubplot at 0x7fd7d06af190>"
            ]
          },
          "metadata": {},
          "execution_count": 2
        },
        {
          "output_type": "display_data",
          "data": {
            "image/png": "[encoded data removed]",
            "text/plain": [
              "<Figure size 432x288 with 1 Axes>"
            ]
          },
          "metadata": {
            "needs_background": "light"
          }
        }
      ]
    },
    {
      "cell_type": "code",
      "metadata": {
        "id": "geoYtWhgYdIs"
      },
      "source": [
        "apple.tail()"
      ],
      "execution_count": null,
      "outputs": []
    },
    {
      "cell_type": "markdown",
      "metadata": {
        "id": "Y33BedeYatsm"
      },
      "source": [
        "## 数据"
      ]
    },
    {
      "cell_type": "code",
      "metadata": {
        "id": "TS47rGXZcL7s"
      },
      "source": [
        "# 这里选择市值大的做实验\n",
        "\n",
        "codes = ['0700.HK', '9988.HK', '3690.HK', '0939.HK', '1299.HK', '0941.HK', '0005.HK', '0388.HK', '1810.HK', '2269.HK', '2318.HK']"
      ],
      "execution_count": null,
      "outputs": []
    },
    {
      "cell_type": "code",
      "metadata": {
        "id": "WLlj0chVc5hV"
      },
      "source": [
        "start = datetime.date(2019,12,1)\n",
        "end = datetime.date.today()\n",
        "# exmp = web.DataReader('0700.HK','yahoo',start, end)"
      ],
      "execution_count": null,
      "outputs": []
    },
    {
      "cell_type": "code",
      "metadata": {
        "colab": {
          "base_uri": "https://localhost:8080/",
          "height": 298
        },
        "id": "TfuRvTwIVolC",
        "outputId": "26625148-b0af-4a6e-ca4a-d00ea35db90a"
      },
      "source": [
        "HSI = web.DataReader('^HSI','yahoo',start, end)\n",
        "HSI_close = HSI.iloc[:,3] / HSI.iloc[0,3] * 100\n",
        "HSI_close.plot()"
      ],
      "execution_count": null,
      "outputs": [
        {
          "output_type": "execute_result",
          "data": {
            "text/plain": [
              "<matplotlib.axes._subplots.AxesSubplot at 0x7f81bcb73590>"
            ]
          },
          "metadata": {},
          "execution_count": 10
        },
        {
          "output_type": "display_data",
          "data": {
            "image/png": "[encoded data removed]",
            "text/plain": [
              "<Figure size 432x288 with 1 Axes>"
            ]
          },
          "metadata": {
            "needs_background": "light"
          }
        }
      ]
    },
    {
      "cell_type": "code",
      "metadata": {
        "colab": {
          "base_uri": "https://localhost:8080/",
          "height": 237
        },
        "id": "SwllWApKepbX",
        "outputId": "dc5ace5c-e4bc-4297-f514-5e2072f534d0"
      },
      "source": [
        "HSI.tail()"
      ],
      "execution_count": null,
      "outputs": [
        {
          "output_type": "execute_result",
          "data": {
            "text/html": [
              "<div>\n",
              "<style scoped>\n",
              "    .dataframe tbody tr th:only-of-type {\n",
              "        vertical-align: middle;\n",
              "    }\n",
              "\n",
              "    .dataframe tbody tr th {\n",
              "        vertical-align: top;\n",
              "    }\n",
              "\n",
              "    .dataframe thead th {\n",
              "        text-align: right;\n",
              "    }\n",
              "</style>\n",
              "<table border=\"1\" class=\"dataframe\">\n",
              "  <thead>\n",
              "    <tr style=\"text-align: right;\">\n",
              "      <th></th>\n",
              "      <th>High</th>\n",
              "      <th>Low</th>\n",
              "      <th>Open</th>\n",
              "      <th>Close</th>\n",
              "      <th>Volume</th>\n",
              "      <th>Adj Close</th>\n",
              "    </tr>\n",
              "    <tr>\n",
              "      <th>Date</th>\n",
              "      <th></th>\n",
              "      <th></th>\n",
              "      <th></th>\n",
              "      <th></th>\n",
              "      <th></th>\n",
              "      <th></th>\n",
              "    </tr>\n",
              "  </thead>\n",
              "  <tbody>\n",
              "    <tr>\n",
              "      <th>2021-09-20</th>\n",
              "      <td>24640.429688</td>\n",
              "      <td>23871.839844</td>\n",
              "      <td>24640.429688</td>\n",
              "      <td>24099.140625</td>\n",
              "      <td>2651590600</td>\n",
              "      <td>24099.140625</td>\n",
              "    </tr>\n",
              "    <tr>\n",
              "      <th>2021-09-21</th>\n",
              "      <td>24284.869141</td>\n",
              "      <td>23771.460938</td>\n",
              "      <td>23867.160156</td>\n",
              "      <td>24221.539062</td>\n",
              "      <td>2079740100</td>\n",
              "      <td>24221.539062</td>\n",
              "    </tr>\n",
              "    <tr>\n",
              "      <th>2021-09-23</th>\n",
              "      <td>24827.460938</td>\n",
              "      <td>24313.679688</td>\n",
              "      <td>24614.140625</td>\n",
              "      <td>24510.980469</td>\n",
              "      <td>2711912400</td>\n",
              "      <td>24510.980469</td>\n",
              "    </tr>\n",
              "    <tr>\n",
              "      <th>2021-09-24</th>\n",
              "      <td>24636.640625</td>\n",
              "      <td>24095.789062</td>\n",
              "      <td>24487.240234</td>\n",
              "      <td>24192.160156</td>\n",
              "      <td>2014445100</td>\n",
              "      <td>24192.160156</td>\n",
              "    </tr>\n",
              "    <tr>\n",
              "      <th>2021-09-27</th>\n",
              "      <td>24509.000000</td>\n",
              "      <td>24131.419922</td>\n",
              "      <td>24131.419922</td>\n",
              "      <td>24233.339844</td>\n",
              "      <td>0</td>\n",
              "      <td>24233.339844</td>\n",
              "    </tr>\n",
              "  </tbody>\n",
              "</table>\n",
              "</div>"
            ],
            "text/plain": [
              "                    High           Low  ...      Volume     Adj Close\n",
              "Date                                    ...                          \n",
              "2021-09-20  24640.429688  23871.839844  ...  2651590600  24099.140625\n",
              "2021-09-21  24284.869141  23771.460938  ...  2079740100  24221.539062\n",
              "2021-09-23  24827.460938  24313.679688  ...  2711912400  24510.980469\n",
              "2021-09-24  24636.640625  24095.789062  ...  2014445100  24192.160156\n",
              "2021-09-27  24509.000000  24131.419922  ...           0  24233.339844\n",
              "\n",
              "[5 rows x 6 columns]"
            ]
          },
          "metadata": {},
          "execution_count": 10
        }
      ]
    },
    {
      "cell_type": "code",
      "metadata": {
        "colab": {
          "base_uri": "https://localhost:8080/",
          "height": 295
        },
        "id": "0fqC3M3cbVzH",
        "outputId": "3ae9c85d-b210-4e37-8f48-1228575b6b1c"
      },
      "source": [
        "HSI.iloc[:,3].plot()"
      ],
      "execution_count": null,
      "outputs": [
        {
          "output_type": "execute_result",
          "data": {
            "text/plain": [
              "<matplotlib.axes._subplots.AxesSubplot at 0x7fd9c946ed90>"
            ]
          },
          "metadata": {},
          "execution_count": 11
        },
        {
          "output_type": "display_data",
          "data": {
            "image/png": "[encoded data removed]",
            "text/plain": [
              "<Figure size 432x288 with 1 Axes>"
            ]
          },
          "metadata": {
            "needs_background": "light"
          }
        }
      ]
    },
    {
      "cell_type": "code",
      "metadata": {
        "id": "eD2Ghwwu0AKI"
      },
      "source": [
        "# 读取对应asset的收盘价\n",
        "\n",
        "def read_data(codes = codes, start=datetime.date(2019,12,1), end=datetime.date.today()):\n",
        "    df = pd.DataFrame()\n",
        "    df.index = pd.date_range(start=start,end=end)\n",
        "    for code in codes:\n",
        "        df_temp = web.DataReader(code, 'yahoo', start, end)\n",
        "        df[code] = df_temp.iloc[:,3]\n",
        "    df = df.dropna()\n",
        "    return df"
      ],
      "execution_count": null,
      "outputs": []
    },
    {
      "cell_type": "code",
      "metadata": {
        "id": "GbWqdt081y1d"
      },
      "source": [
        "df = read_data()"
      ],
      "execution_count": null,
      "outputs": []
    },
    {
      "cell_type": "code",
      "metadata": {
        "colab": {
          "base_uri": "https://localhost:8080/",
          "height": 313
        },
        "id": "mYVnLZ7IdpFi",
        "outputId": "45087afc-e22d-4311-a50f-f28164b2fd2e"
      },
      "source": [
        "df.tail()"
      ],
      "execution_count": null,
      "outputs": [
        {
          "output_type": "execute_result",
          "data": {
            "text/html": [
              "<div>\n",
              "<style scoped>\n",
              "    .dataframe tbody tr th:only-of-type {\n",
              "        vertical-align: middle;\n",
              "    }\n",
              "\n",
              "    .dataframe tbody tr th {\n",
              "        vertical-align: top;\n",
              "    }\n",
              "\n",
              "    .dataframe thead th {\n",
              "        text-align: right;\n",
              "    }\n",
              "</style>\n",
              "<table border=\"1\" class=\"dataframe\">\n",
              "  <thead>\n",
              "    <tr style=\"text-align: right;\">\n",
              "      <th></th>\n",
              "      <th>0001.HK</th>\n",
              "      <th>0002.HK</th>\n",
              "      <th>0003.HK</th>\n",
              "      <th>0005.HK</th>\n",
              "      <th>0006.HK</th>\n",
              "      <th>0011.HK</th>\n",
              "      <th>0012.HK</th>\n",
              "      <th>0016.HK</th>\n",
              "      <th>0017.HK</th>\n",
              "      <th>0027.HK</th>\n",
              "      <th>0066.HK</th>\n",
              "      <th>0101.HK</th>\n",
              "      <th>0175.HK</th>\n",
              "      <th>0241.HK</th>\n",
              "      <th>0267.HK</th>\n",
              "      <th>0288.HK</th>\n",
              "      <th>0386.HK</th>\n",
              "      <th>0388.HK</th>\n",
              "      <th>0669.HK</th>\n",
              "      <th>0688.HK</th>\n",
              "      <th>0700.HK</th>\n",
              "      <th>0762.HK</th>\n",
              "      <th>0823.HK</th>\n",
              "      <th>0857.HK</th>\n",
              "      <th>0868.HK</th>\n",
              "      <th>0883.HK</th>\n",
              "      <th>0939.HK</th>\n",
              "      <th>0941.HK</th>\n",
              "      <th>0960.HK</th>\n",
              "      <th>0968.HK</th>\n",
              "      <th>1038.HK</th>\n",
              "      <th>1044.HK</th>\n",
              "      <th>1093.HK</th>\n",
              "      <th>1109.HK</th>\n",
              "      <th>1113.HK</th>\n",
              "      <th>1177.HK</th>\n",
              "      <th>1211.HK</th>\n",
              "      <th>1299.HK</th>\n",
              "      <th>1398.HK</th>\n",
              "      <th>1810.HK</th>\n",
              "      <th>1876.HK</th>\n",
              "      <th>1928.HK</th>\n",
              "      <th>1997.HK</th>\n",
              "      <th>2007.HK</th>\n",
              "      <th>2018.HK</th>\n",
              "      <th>2020.HK</th>\n",
              "      <th>2269.HK</th>\n",
              "      <th>2313.HK</th>\n",
              "      <th>2318.HK</th>\n",
              "      <th>2319.HK</th>\n",
              "      <th>2331.HK</th>\n",
              "      <th>2382.HK</th>\n",
              "      <th>2388.HK</th>\n",
              "      <th>2628.HK</th>\n",
              "      <th>3690.HK</th>\n",
              "      <th>3968.HK</th>\n",
              "      <th>3988.HK</th>\n",
              "      <th>6098.HK</th>\n",
              "      <th>6862.HK</th>\n",
              "      <th>9988.HK</th>\n",
              "    </tr>\n",
              "  </thead>\n",
              "  <tbody>\n",
              "    <tr>\n",
              "      <th>2021-09-20</th>\n",
              "      <td>51.000000</td>\n",
              "      <td>75.250000</td>\n",
              "      <td>12.14</td>\n",
              "      <td>39.000000</td>\n",
              "      <td>45.849998</td>\n",
              "      <td>132.600006</td>\n",
              "      <td>28.950001</td>\n",
              "      <td>94.500000</td>\n",
              "      <td>30.400000</td>\n",
              "      <td>40.349998</td>\n",
              "      <td>42.500000</td>\n",
              "      <td>16.959999</td>\n",
              "      <td>24.25</td>\n",
              "      <td>11.66</td>\n",
              "      <td>9.16</td>\n",
              "      <td>5.58</td>\n",
              "      <td>3.81</td>\n",
              "      <td>478.799988</td>\n",
              "      <td>159.699997</td>\n",
              "      <td>15.820000</td>\n",
              "      <td>454.200012</td>\n",
              "      <td>3.94</td>\n",
              "      <td>64.650002</td>\n",
              "      <td>3.69</td>\n",
              "      <td>25.700001</td>\n",
              "      <td>7.83</td>\n",
              "      <td>5.42</td>\n",
              "      <td>47.000000</td>\n",
              "      <td>31.200001</td>\n",
              "      <td>16.540001</td>\n",
              "      <td>42.799999</td>\n",
              "      <td>40.299999</td>\n",
              "      <td>9.40</td>\n",
              "      <td>27.750000</td>\n",
              "      <td>41.849998</td>\n",
              "      <td>6.24</td>\n",
              "      <td>243.800003</td>\n",
              "      <td>83.750000</td>\n",
              "      <td>4.21</td>\n",
              "      <td>22.799999</td>\n",
              "      <td>18.940001</td>\n",
              "      <td>15.08</td>\n",
              "      <td>35.650002</td>\n",
              "      <td>6.55</td>\n",
              "      <td>39.299999</td>\n",
              "      <td>148.699997</td>\n",
              "      <td>121.300003</td>\n",
              "      <td>166.000000</td>\n",
              "      <td>51.349998</td>\n",
              "      <td>49.150002</td>\n",
              "      <td>96.349998</td>\n",
              "      <td>215.000000</td>\n",
              "      <td>23.049999</td>\n",
              "      <td>12.44</td>\n",
              "      <td>234.600006</td>\n",
              "      <td>57.500000</td>\n",
              "      <td>2.70</td>\n",
              "      <td>45.099998</td>\n",
              "      <td>31.750000</td>\n",
              "      <td>151.500000</td>\n",
              "    </tr>\n",
              "    <tr>\n",
              "      <th>2021-09-21</th>\n",
              "      <td>51.700001</td>\n",
              "      <td>75.250000</td>\n",
              "      <td>12.10</td>\n",
              "      <td>38.799999</td>\n",
              "      <td>46.000000</td>\n",
              "      <td>133.500000</td>\n",
              "      <td>29.549999</td>\n",
              "      <td>96.099998</td>\n",
              "      <td>30.950001</td>\n",
              "      <td>41.750000</td>\n",
              "      <td>42.500000</td>\n",
              "      <td>17.200001</td>\n",
              "      <td>24.40</td>\n",
              "      <td>11.54</td>\n",
              "      <td>9.02</td>\n",
              "      <td>5.55</td>\n",
              "      <td>3.85</td>\n",
              "      <td>484.399994</td>\n",
              "      <td>158.300003</td>\n",
              "      <td>16.320000</td>\n",
              "      <td>450.000000</td>\n",
              "      <td>3.97</td>\n",
              "      <td>64.750000</td>\n",
              "      <td>3.72</td>\n",
              "      <td>25.500000</td>\n",
              "      <td>7.80</td>\n",
              "      <td>5.40</td>\n",
              "      <td>47.150002</td>\n",
              "      <td>31.450001</td>\n",
              "      <td>16.860001</td>\n",
              "      <td>43.200001</td>\n",
              "      <td>40.849998</td>\n",
              "      <td>9.49</td>\n",
              "      <td>29.100000</td>\n",
              "      <td>43.549999</td>\n",
              "      <td>6.23</td>\n",
              "      <td>243.000000</td>\n",
              "      <td>88.750000</td>\n",
              "      <td>4.21</td>\n",
              "      <td>23.100000</td>\n",
              "      <td>18.980000</td>\n",
              "      <td>15.68</td>\n",
              "      <td>36.599998</td>\n",
              "      <td>7.13</td>\n",
              "      <td>38.650002</td>\n",
              "      <td>151.199997</td>\n",
              "      <td>121.500000</td>\n",
              "      <td>166.800003</td>\n",
              "      <td>52.599998</td>\n",
              "      <td>48.549999</td>\n",
              "      <td>96.550003</td>\n",
              "      <td>216.199997</td>\n",
              "      <td>22.700001</td>\n",
              "      <td>12.52</td>\n",
              "      <td>230.600006</td>\n",
              "      <td>57.650002</td>\n",
              "      <td>2.70</td>\n",
              "      <td>47.900002</td>\n",
              "      <td>30.900000</td>\n",
              "      <td>148.699997</td>\n",
              "    </tr>\n",
              "    <tr>\n",
              "      <th>2021-09-23</th>\n",
              "      <td>52.099998</td>\n",
              "      <td>76.050003</td>\n",
              "      <td>12.10</td>\n",
              "      <td>39.750000</td>\n",
              "      <td>46.549999</td>\n",
              "      <td>133.800003</td>\n",
              "      <td>29.850000</td>\n",
              "      <td>98.750000</td>\n",
              "      <td>30.900000</td>\n",
              "      <td>42.000000</td>\n",
              "      <td>42.849998</td>\n",
              "      <td>17.740000</td>\n",
              "      <td>23.15</td>\n",
              "      <td>11.96</td>\n",
              "      <td>9.03</td>\n",
              "      <td>5.54</td>\n",
              "      <td>3.92</td>\n",
              "      <td>484.399994</td>\n",
              "      <td>159.199997</td>\n",
              "      <td>17.340000</td>\n",
              "      <td>463.200012</td>\n",
              "      <td>3.99</td>\n",
              "      <td>66.099998</td>\n",
              "      <td>3.79</td>\n",
              "      <td>25.250000</td>\n",
              "      <td>8.03</td>\n",
              "      <td>5.48</td>\n",
              "      <td>47.750000</td>\n",
              "      <td>34.500000</td>\n",
              "      <td>17.000000</td>\n",
              "      <td>43.950001</td>\n",
              "      <td>40.900002</td>\n",
              "      <td>9.45</td>\n",
              "      <td>31.000000</td>\n",
              "      <td>43.799999</td>\n",
              "      <td>6.34</td>\n",
              "      <td>242.199997</td>\n",
              "      <td>88.400002</td>\n",
              "      <td>4.23</td>\n",
              "      <td>22.500000</td>\n",
              "      <td>19.200001</td>\n",
              "      <td>16.18</td>\n",
              "      <td>37.900002</td>\n",
              "      <td>7.64</td>\n",
              "      <td>38.549999</td>\n",
              "      <td>145.500000</td>\n",
              "      <td>120.500000</td>\n",
              "      <td>165.300003</td>\n",
              "      <td>53.099998</td>\n",
              "      <td>50.099998</td>\n",
              "      <td>93.800003</td>\n",
              "      <td>216.199997</td>\n",
              "      <td>22.700001</td>\n",
              "      <td>12.74</td>\n",
              "      <td>242.600006</td>\n",
              "      <td>58.650002</td>\n",
              "      <td>2.73</td>\n",
              "      <td>54.000000</td>\n",
              "      <td>30.549999</td>\n",
              "      <td>148.399994</td>\n",
              "    </tr>\n",
              "    <tr>\n",
              "      <th>2021-09-24</th>\n",
              "      <td>51.250000</td>\n",
              "      <td>74.900002</td>\n",
              "      <td>11.86</td>\n",
              "      <td>39.700001</td>\n",
              "      <td>45.700001</td>\n",
              "      <td>132.100006</td>\n",
              "      <td>28.750000</td>\n",
              "      <td>95.699997</td>\n",
              "      <td>30.200001</td>\n",
              "      <td>40.250000</td>\n",
              "      <td>42.299999</td>\n",
              "      <td>17.219999</td>\n",
              "      <td>23.00</td>\n",
              "      <td>11.20</td>\n",
              "      <td>8.71</td>\n",
              "      <td>5.50</td>\n",
              "      <td>3.84</td>\n",
              "      <td>476.399994</td>\n",
              "      <td>159.000000</td>\n",
              "      <td>17.059999</td>\n",
              "      <td>460.200012</td>\n",
              "      <td>3.97</td>\n",
              "      <td>65.250000</td>\n",
              "      <td>3.80</td>\n",
              "      <td>23.400000</td>\n",
              "      <td>8.07</td>\n",
              "      <td>5.42</td>\n",
              "      <td>47.200001</td>\n",
              "      <td>33.000000</td>\n",
              "      <td>16.580000</td>\n",
              "      <td>43.200001</td>\n",
              "      <td>41.000000</td>\n",
              "      <td>9.30</td>\n",
              "      <td>30.250000</td>\n",
              "      <td>42.650002</td>\n",
              "      <td>6.28</td>\n",
              "      <td>243.000000</td>\n",
              "      <td>86.500000</td>\n",
              "      <td>4.19</td>\n",
              "      <td>22.100000</td>\n",
              "      <td>19.240000</td>\n",
              "      <td>15.48</td>\n",
              "      <td>37.049999</td>\n",
              "      <td>7.49</td>\n",
              "      <td>38.099998</td>\n",
              "      <td>142.300003</td>\n",
              "      <td>117.800003</td>\n",
              "      <td>161.000000</td>\n",
              "      <td>54.250000</td>\n",
              "      <td>49.450001</td>\n",
              "      <td>88.699997</td>\n",
              "      <td>210.399994</td>\n",
              "      <td>22.650000</td>\n",
              "      <td>12.70</td>\n",
              "      <td>244.600006</td>\n",
              "      <td>58.250000</td>\n",
              "      <td>2.71</td>\n",
              "      <td>53.650002</td>\n",
              "      <td>29.900000</td>\n",
              "      <td>144.300003</td>\n",
              "    </tr>\n",
              "    <tr>\n",
              "      <th>2021-09-27</th>\n",
              "      <td>51.000000</td>\n",
              "      <td>75.000000</td>\n",
              "      <td>11.84</td>\n",
              "      <td>40.549999</td>\n",
              "      <td>45.799999</td>\n",
              "      <td>133.100006</td>\n",
              "      <td>29.049999</td>\n",
              "      <td>94.849998</td>\n",
              "      <td>30.799999</td>\n",
              "      <td>38.950001</td>\n",
              "      <td>42.150002</td>\n",
              "      <td>17.440001</td>\n",
              "      <td>21.85</td>\n",
              "      <td>10.94</td>\n",
              "      <td>8.58</td>\n",
              "      <td>5.47</td>\n",
              "      <td>3.85</td>\n",
              "      <td>474.399994</td>\n",
              "      <td>154.800003</td>\n",
              "      <td>16.620001</td>\n",
              "      <td>465.200012</td>\n",
              "      <td>3.97</td>\n",
              "      <td>64.800003</td>\n",
              "      <td>3.84</td>\n",
              "      <td>23.450001</td>\n",
              "      <td>8.48</td>\n",
              "      <td>5.41</td>\n",
              "      <td>46.900002</td>\n",
              "      <td>31.700001</td>\n",
              "      <td>15.880000</td>\n",
              "      <td>43.250000</td>\n",
              "      <td>41.599998</td>\n",
              "      <td>9.66</td>\n",
              "      <td>29.950001</td>\n",
              "      <td>43.049999</td>\n",
              "      <td>6.32</td>\n",
              "      <td>241.600006</td>\n",
              "      <td>86.699997</td>\n",
              "      <td>4.19</td>\n",
              "      <td>21.500000</td>\n",
              "      <td>19.400000</td>\n",
              "      <td>14.84</td>\n",
              "      <td>37.400002</td>\n",
              "      <td>7.28</td>\n",
              "      <td>37.299999</td>\n",
              "      <td>138.800003</td>\n",
              "      <td>122.000000</td>\n",
              "      <td>154.899994</td>\n",
              "      <td>54.900002</td>\n",
              "      <td>50.200001</td>\n",
              "      <td>88.150002</td>\n",
              "      <td>205.000000</td>\n",
              "      <td>22.799999</td>\n",
              "      <td>12.74</td>\n",
              "      <td>249.600006</td>\n",
              "      <td>59.250000</td>\n",
              "      <td>2.72</td>\n",
              "      <td>52.500000</td>\n",
              "      <td>29.450001</td>\n",
              "      <td>141.899994</td>\n",
              "    </tr>\n",
              "  </tbody>\n",
              "</table>\n",
              "</div>"
            ],
            "text/plain": [
              "              0001.HK    0002.HK  0003.HK  ...    6098.HK    6862.HK     9988.HK\n",
              "2021-09-20  51.000000  75.250000    12.14  ...  45.099998  31.750000  151.500000\n",
              "2021-09-21  51.700001  75.250000    12.10  ...  47.900002  30.900000  148.699997\n",
              "2021-09-23  52.099998  76.050003    12.10  ...  54.000000  30.549999  148.399994\n",
              "2021-09-24  51.250000  74.900002    11.86  ...  53.650002  29.900000  144.300003\n",
              "2021-09-27  51.000000  75.000000    11.84  ...  52.500000  29.450001  141.899994\n",
              "\n",
              "[5 rows x 60 columns]"
            ]
          },
          "metadata": {},
          "execution_count": 18
        }
      ]
    },
    {
      "cell_type": "code",
      "metadata": {
        "colab": {
          "base_uri": "https://localhost:8080/",
          "height": 313
        },
        "id": "Z3D7p2DhZ6Gu",
        "outputId": "9f47d322-66b0-4688-8bfa-65a948884fe0"
      },
      "source": [
        "df.head()"
      ],
      "execution_count": null,
      "outputs": [
        {
          "output_type": "execute_result",
          "data": {
            "text/html": [
              "<div>\n",
              "<style scoped>\n",
              "    .dataframe tbody tr th:only-of-type {\n",
              "        vertical-align: middle;\n",
              "    }\n",
              "\n",
              "    .dataframe tbody tr th {\n",
              "        vertical-align: top;\n",
              "    }\n",
              "\n",
              "    .dataframe thead th {\n",
              "        text-align: right;\n",
              "    }\n",
              "</style>\n",
              "<table border=\"1\" class=\"dataframe\">\n",
              "  <thead>\n",
              "    <tr style=\"text-align: right;\">\n",
              "      <th></th>\n",
              "      <th>0001.HK</th>\n",
              "      <th>0002.HK</th>\n",
              "      <th>0003.HK</th>\n",
              "      <th>0005.HK</th>\n",
              "      <th>0006.HK</th>\n",
              "      <th>0011.HK</th>\n",
              "      <th>0012.HK</th>\n",
              "      <th>0016.HK</th>\n",
              "      <th>0017.HK</th>\n",
              "      <th>0027.HK</th>\n",
              "      <th>0066.HK</th>\n",
              "      <th>0101.HK</th>\n",
              "      <th>0175.HK</th>\n",
              "      <th>0241.HK</th>\n",
              "      <th>0267.HK</th>\n",
              "      <th>0288.HK</th>\n",
              "      <th>0386.HK</th>\n",
              "      <th>0388.HK</th>\n",
              "      <th>0669.HK</th>\n",
              "      <th>0688.HK</th>\n",
              "      <th>0700.HK</th>\n",
              "      <th>0762.HK</th>\n",
              "      <th>0823.HK</th>\n",
              "      <th>0857.HK</th>\n",
              "      <th>0868.HK</th>\n",
              "      <th>0883.HK</th>\n",
              "      <th>0939.HK</th>\n",
              "      <th>0941.HK</th>\n",
              "      <th>0960.HK</th>\n",
              "      <th>0968.HK</th>\n",
              "      <th>1038.HK</th>\n",
              "      <th>1044.HK</th>\n",
              "      <th>1093.HK</th>\n",
              "      <th>1109.HK</th>\n",
              "      <th>1113.HK</th>\n",
              "      <th>1177.HK</th>\n",
              "      <th>1211.HK</th>\n",
              "      <th>1299.HK</th>\n",
              "      <th>1398.HK</th>\n",
              "      <th>1810.HK</th>\n",
              "      <th>1876.HK</th>\n",
              "      <th>1928.HK</th>\n",
              "      <th>1997.HK</th>\n",
              "      <th>2007.HK</th>\n",
              "      <th>2018.HK</th>\n",
              "      <th>2020.HK</th>\n",
              "      <th>2269.HK</th>\n",
              "      <th>2313.HK</th>\n",
              "      <th>2318.HK</th>\n",
              "      <th>2319.HK</th>\n",
              "      <th>2331.HK</th>\n",
              "      <th>2382.HK</th>\n",
              "      <th>2388.HK</th>\n",
              "      <th>2628.HK</th>\n",
              "      <th>3690.HK</th>\n",
              "      <th>3968.HK</th>\n",
              "      <th>3988.HK</th>\n",
              "      <th>6098.HK</th>\n",
              "      <th>6862.HK</th>\n",
              "      <th>9988.HK</th>\n",
              "    </tr>\n",
              "  </thead>\n",
              "  <tbody>\n",
              "    <tr>\n",
              "      <th>2019-12-02</th>\n",
              "      <td>71.000000</td>\n",
              "      <td>79.849998</td>\n",
              "      <td>13.514739</td>\n",
              "      <td>58.400002</td>\n",
              "      <td>54.450001</td>\n",
              "      <td>159.899994</td>\n",
              "      <td>37.549999</td>\n",
              "      <td>113.300003</td>\n",
              "      <td>40.639999</td>\n",
              "      <td>52.000000</td>\n",
              "      <td>43.900002</td>\n",
              "      <td>16.180000</td>\n",
              "      <td>14.80</td>\n",
              "      <td>8.49</td>\n",
              "      <td>9.87</td>\n",
              "      <td>8.15</td>\n",
              "      <td>4.41</td>\n",
              "      <td>247.600006</td>\n",
              "      <td>60.000000</td>\n",
              "      <td>26.950001</td>\n",
              "      <td>333.000000</td>\n",
              "      <td>6.70</td>\n",
              "      <td>80.099998</td>\n",
              "      <td>3.60</td>\n",
              "      <td>9.20</td>\n",
              "      <td>11.36</td>\n",
              "      <td>6.23</td>\n",
              "      <td>59.349998</td>\n",
              "      <td>32.900002</td>\n",
              "      <td>5.14</td>\n",
              "      <td>53.000000</td>\n",
              "      <td>51.500000</td>\n",
              "      <td>9.291666</td>\n",
              "      <td>35.299999</td>\n",
              "      <td>52.049999</td>\n",
              "      <td>6.706666</td>\n",
              "      <td>37.099998</td>\n",
              "      <td>78.900002</td>\n",
              "      <td>5.56</td>\n",
              "      <td>8.93</td>\n",
              "      <td>28.200001</td>\n",
              "      <td>37.450001</td>\n",
              "      <td>43.299999</td>\n",
              "      <td>11.20</td>\n",
              "      <td>54.099998</td>\n",
              "      <td>73.849998</td>\n",
              "      <td>29.150000</td>\n",
              "      <td>103.599998</td>\n",
              "      <td>89.550003</td>\n",
              "      <td>30.299999</td>\n",
              "      <td>25.600000</td>\n",
              "      <td>128.100006</td>\n",
              "      <td>26.60</td>\n",
              "      <td>19.879999</td>\n",
              "      <td>104.699997</td>\n",
              "      <td>37.299999</td>\n",
              "      <td>3.13</td>\n",
              "      <td>26.049999</td>\n",
              "      <td>33.900002</td>\n",
              "      <td>195.500000</td>\n",
              "    </tr>\n",
              "    <tr>\n",
              "      <th>2019-12-03</th>\n",
              "      <td>70.500000</td>\n",
              "      <td>79.949997</td>\n",
              "      <td>13.496598</td>\n",
              "      <td>57.950001</td>\n",
              "      <td>55.200001</td>\n",
              "      <td>159.500000</td>\n",
              "      <td>37.650002</td>\n",
              "      <td>113.000000</td>\n",
              "      <td>40.799999</td>\n",
              "      <td>51.799999</td>\n",
              "      <td>43.400002</td>\n",
              "      <td>16.139999</td>\n",
              "      <td>14.90</td>\n",
              "      <td>8.70</td>\n",
              "      <td>9.88</td>\n",
              "      <td>7.97</td>\n",
              "      <td>4.37</td>\n",
              "      <td>247.399994</td>\n",
              "      <td>60.200001</td>\n",
              "      <td>27.549999</td>\n",
              "      <td>331.000000</td>\n",
              "      <td>6.76</td>\n",
              "      <td>79.250000</td>\n",
              "      <td>3.58</td>\n",
              "      <td>9.17</td>\n",
              "      <td>11.34</td>\n",
              "      <td>6.20</td>\n",
              "      <td>59.400002</td>\n",
              "      <td>32.650002</td>\n",
              "      <td>5.18</td>\n",
              "      <td>53.450001</td>\n",
              "      <td>51.250000</td>\n",
              "      <td>9.166666</td>\n",
              "      <td>35.549999</td>\n",
              "      <td>51.849998</td>\n",
              "      <td>6.786666</td>\n",
              "      <td>37.250000</td>\n",
              "      <td>79.000000</td>\n",
              "      <td>5.53</td>\n",
              "      <td>9.01</td>\n",
              "      <td>28.750000</td>\n",
              "      <td>37.150002</td>\n",
              "      <td>43.349998</td>\n",
              "      <td>11.14</td>\n",
              "      <td>55.299999</td>\n",
              "      <td>74.449997</td>\n",
              "      <td>29.133333</td>\n",
              "      <td>105.400002</td>\n",
              "      <td>90.000000</td>\n",
              "      <td>30.400000</td>\n",
              "      <td>25.549999</td>\n",
              "      <td>129.100006</td>\n",
              "      <td>26.50</td>\n",
              "      <td>19.879999</td>\n",
              "      <td>103.599998</td>\n",
              "      <td>37.549999</td>\n",
              "      <td>3.11</td>\n",
              "      <td>26.450001</td>\n",
              "      <td>33.900002</td>\n",
              "      <td>192.600006</td>\n",
              "    </tr>\n",
              "    <tr>\n",
              "      <th>2019-12-04</th>\n",
              "      <td>68.750000</td>\n",
              "      <td>79.150002</td>\n",
              "      <td>13.369614</td>\n",
              "      <td>57.000000</td>\n",
              "      <td>54.700001</td>\n",
              "      <td>156.600006</td>\n",
              "      <td>37.150002</td>\n",
              "      <td>110.900002</td>\n",
              "      <td>39.959999</td>\n",
              "      <td>51.000000</td>\n",
              "      <td>43.200001</td>\n",
              "      <td>15.940000</td>\n",
              "      <td>14.98</td>\n",
              "      <td>8.58</td>\n",
              "      <td>9.83</td>\n",
              "      <td>7.82</td>\n",
              "      <td>4.33</td>\n",
              "      <td>245.000000</td>\n",
              "      <td>58.450001</td>\n",
              "      <td>26.700001</td>\n",
              "      <td>328.600006</td>\n",
              "      <td>6.76</td>\n",
              "      <td>78.650002</td>\n",
              "      <td>3.54</td>\n",
              "      <td>9.18</td>\n",
              "      <td>11.16</td>\n",
              "      <td>6.17</td>\n",
              "      <td>59.250000</td>\n",
              "      <td>32.349998</td>\n",
              "      <td>5.29</td>\n",
              "      <td>52.700001</td>\n",
              "      <td>50.750000</td>\n",
              "      <td>9.093750</td>\n",
              "      <td>34.900002</td>\n",
              "      <td>50.900002</td>\n",
              "      <td>6.746666</td>\n",
              "      <td>37.099998</td>\n",
              "      <td>77.650002</td>\n",
              "      <td>5.47</td>\n",
              "      <td>9.00</td>\n",
              "      <td>28.200001</td>\n",
              "      <td>36.599998</td>\n",
              "      <td>42.849998</td>\n",
              "      <td>10.98</td>\n",
              "      <td>53.250000</td>\n",
              "      <td>73.199997</td>\n",
              "      <td>29.016666</td>\n",
              "      <td>104.300003</td>\n",
              "      <td>88.650002</td>\n",
              "      <td>30.150000</td>\n",
              "      <td>24.799999</td>\n",
              "      <td>124.599998</td>\n",
              "      <td>26.10</td>\n",
              "      <td>19.480000</td>\n",
              "      <td>100.500000</td>\n",
              "      <td>36.950001</td>\n",
              "      <td>3.10</td>\n",
              "      <td>25.750000</td>\n",
              "      <td>33.849998</td>\n",
              "      <td>189.000000</td>\n",
              "    </tr>\n",
              "    <tr>\n",
              "      <th>2019-12-05</th>\n",
              "      <td>69.250000</td>\n",
              "      <td>79.750000</td>\n",
              "      <td>13.460317</td>\n",
              "      <td>57.200001</td>\n",
              "      <td>54.750000</td>\n",
              "      <td>158.100006</td>\n",
              "      <td>37.500000</td>\n",
              "      <td>111.900002</td>\n",
              "      <td>40.160000</td>\n",
              "      <td>51.099998</td>\n",
              "      <td>43.549999</td>\n",
              "      <td>16.240000</td>\n",
              "      <td>15.18</td>\n",
              "      <td>8.89</td>\n",
              "      <td>9.86</td>\n",
              "      <td>7.89</td>\n",
              "      <td>4.36</td>\n",
              "      <td>244.000000</td>\n",
              "      <td>59.799999</td>\n",
              "      <td>26.900000</td>\n",
              "      <td>330.000000</td>\n",
              "      <td>6.78</td>\n",
              "      <td>79.650002</td>\n",
              "      <td>3.56</td>\n",
              "      <td>9.22</td>\n",
              "      <td>11.30</td>\n",
              "      <td>6.20</td>\n",
              "      <td>59.299999</td>\n",
              "      <td>31.850000</td>\n",
              "      <td>5.43</td>\n",
              "      <td>53.200001</td>\n",
              "      <td>50.950001</td>\n",
              "      <td>9.239583</td>\n",
              "      <td>35.250000</td>\n",
              "      <td>51.099998</td>\n",
              "      <td>6.906666</td>\n",
              "      <td>37.299999</td>\n",
              "      <td>77.550003</td>\n",
              "      <td>5.49</td>\n",
              "      <td>9.07</td>\n",
              "      <td>28.250000</td>\n",
              "      <td>36.750000</td>\n",
              "      <td>43.049999</td>\n",
              "      <td>11.00</td>\n",
              "      <td>56.849998</td>\n",
              "      <td>75.800003</td>\n",
              "      <td>29.483334</td>\n",
              "      <td>106.000000</td>\n",
              "      <td>89.300003</td>\n",
              "      <td>30.549999</td>\n",
              "      <td>25.799999</td>\n",
              "      <td>131.199997</td>\n",
              "      <td>26.10</td>\n",
              "      <td>19.740000</td>\n",
              "      <td>102.199997</td>\n",
              "      <td>37.400002</td>\n",
              "      <td>3.11</td>\n",
              "      <td>26.299999</td>\n",
              "      <td>34.200001</td>\n",
              "      <td>192.399994</td>\n",
              "    </tr>\n",
              "    <tr>\n",
              "      <th>2019-12-06</th>\n",
              "      <td>69.699997</td>\n",
              "      <td>79.750000</td>\n",
              "      <td>13.424036</td>\n",
              "      <td>57.450001</td>\n",
              "      <td>55.549999</td>\n",
              "      <td>159.500000</td>\n",
              "      <td>37.950001</td>\n",
              "      <td>113.699997</td>\n",
              "      <td>40.799999</td>\n",
              "      <td>52.250000</td>\n",
              "      <td>44.150002</td>\n",
              "      <td>16.459999</td>\n",
              "      <td>15.36</td>\n",
              "      <td>8.94</td>\n",
              "      <td>9.97</td>\n",
              "      <td>8.28</td>\n",
              "      <td>4.35</td>\n",
              "      <td>247.600006</td>\n",
              "      <td>60.950001</td>\n",
              "      <td>27.200001</td>\n",
              "      <td>335.600006</td>\n",
              "      <td>6.89</td>\n",
              "      <td>80.500000</td>\n",
              "      <td>3.58</td>\n",
              "      <td>9.20</td>\n",
              "      <td>11.30</td>\n",
              "      <td>6.29</td>\n",
              "      <td>59.299999</td>\n",
              "      <td>31.950001</td>\n",
              "      <td>5.44</td>\n",
              "      <td>53.450001</td>\n",
              "      <td>51.150002</td>\n",
              "      <td>9.343750</td>\n",
              "      <td>35.299999</td>\n",
              "      <td>51.750000</td>\n",
              "      <td>7.080000</td>\n",
              "      <td>37.150002</td>\n",
              "      <td>77.949997</td>\n",
              "      <td>5.55</td>\n",
              "      <td>9.34</td>\n",
              "      <td>28.900000</td>\n",
              "      <td>37.400002</td>\n",
              "      <td>43.299999</td>\n",
              "      <td>11.14</td>\n",
              "      <td>61.950001</td>\n",
              "      <td>75.949997</td>\n",
              "      <td>30.600000</td>\n",
              "      <td>108.000000</td>\n",
              "      <td>89.800003</td>\n",
              "      <td>30.600000</td>\n",
              "      <td>26.100000</td>\n",
              "      <td>138.699997</td>\n",
              "      <td>26.35</td>\n",
              "      <td>20.100000</td>\n",
              "      <td>103.599998</td>\n",
              "      <td>37.599998</td>\n",
              "      <td>3.15</td>\n",
              "      <td>25.799999</td>\n",
              "      <td>34.500000</td>\n",
              "      <td>197.500000</td>\n",
              "    </tr>\n",
              "  </tbody>\n",
              "</table>\n",
              "</div>"
            ],
            "text/plain": [
              "              0001.HK    0002.HK    0003.HK  ...    6098.HK    6862.HK     9988.HK\n",
              "2019-12-02  71.000000  79.849998  13.514739  ...  26.049999  33.900002  195.500000\n",
              "2019-12-03  70.500000  79.949997  13.496598  ...  26.450001  33.900002  192.600006\n",
              "2019-12-04  68.750000  79.150002  13.369614  ...  25.750000  33.849998  189.000000\n",
              "2019-12-05  69.250000  79.750000  13.460317  ...  26.299999  34.200001  192.399994\n",
              "2019-12-06  69.699997  79.750000  13.424036  ...  25.799999  34.500000  197.500000\n",
              "\n",
              "[5 rows x 60 columns]"
            ]
          },
          "metadata": {},
          "execution_count": 19
        }
      ]
    },
    {
      "cell_type": "code",
      "metadata": {
        "id": "7VK0_b9-hsuY"
      },
      "source": [
        "df.corr()"
      ],
      "execution_count": null,
      "outputs": []
    },
    {
      "cell_type": "code",
      "metadata": {
        "colab": {
          "base_uri": "https://localhost:8080/"
        },
        "id": "7OjJZr_aZsx4",
        "outputId": "79010387-4cae-4a9a-fbd1-329679d33cc0"
      },
      "source": [
        "np.log((df.iloc[-1,:] / df.iloc[0,:]).values)"
      ],
      "execution_count": null,
      "outputs": [
        {
          "output_type": "execute_result",
          "data": {
            "text/plain": [
              "array([ 0.31921188, -0.19153236,  0.87082834, -0.12464244,  0.10460409,\n",
              "       -0.25282422, -0.37903184,  0.6822269 ,  0.98140914,  1.42973739,\n",
              "       -0.51375709])"
            ]
          },
          "metadata": {},
          "execution_count": 13
        }
      ]
    },
    {
      "cell_type": "code",
      "metadata": {
        "id": "JSpQhBYsb2f4"
      },
      "source": [
        "w = cp.Variable(11)\n",
        "gamma = 0.01\n",
        "mu = np.log((df.iloc[-1,:] / df.iloc[0,:]).values)\n",
        "Sigma = df.cov().values\n",
        "ret = mu.T@w \n",
        "risk = cp.quad_form(w, Sigma)\n",
        "prob = cp.Problem(cp.Maximize(ret - gamma*risk), \n",
        "               [cp.sum(w) == 1, \n",
        "                w >= 0])"
      ],
      "execution_count": null,
      "outputs": []
    },
    {
      "cell_type": "code",
      "metadata": {
        "colab": {
          "base_uri": "https://localhost:8080/"
        },
        "id": "fpEMLIv1cVpe",
        "outputId": "418e3e0b-9e2e-49d2-aa1c-1ead78124fab"
      },
      "source": [
        "prob.solve()"
      ],
      "execution_count": null,
      "outputs": [
        {
          "output_type": "execute_result",
          "data": {
            "text/plain": [
              "0.49884431927623135"
            ]
          },
          "metadata": {},
          "execution_count": 15
        }
      ]
    },
    {
      "cell_type": "code",
      "metadata": {
        "colab": {
          "base_uri": "https://localhost:8080/",
          "height": 609
        },
        "id": "5A6SaJPskjdV",
        "outputId": "867d11f5-e0b2-4cae-d765-4466fc18dd0b"
      },
      "source": [
        "w.value * df"
      ],
      "execution_count": null,
      "outputs": [
        {
          "output_type": "execute_result",
          "data": {
            "text/html": [
              "<div>\n",
              "<style scoped>\n",
              "    .dataframe tbody tr th:only-of-type {\n",
              "        vertical-align: middle;\n",
              "    }\n",
              "\n",
              "    .dataframe tbody tr th {\n",
              "        vertical-align: top;\n",
              "    }\n",
              "\n",
              "    .dataframe thead th {\n",
              "        text-align: right;\n",
              "    }\n",
              "</style>\n",
              "<table border=\"1\" class=\"dataframe\">\n",
              "  <thead>\n",
              "    <tr style=\"text-align: right;\">\n",
              "      <th></th>\n",
              "      <th>0700.HK</th>\n",
              "      <th>9988.HK</th>\n",
              "      <th>3690.HK</th>\n",
              "      <th>0939.HK</th>\n",
              "      <th>1299.HK</th>\n",
              "      <th>0941.HK</th>\n",
              "      <th>0005.HK</th>\n",
              "      <th>0388.HK</th>\n",
              "      <th>1810.HK</th>\n",
              "      <th>2269.HK</th>\n",
              "      <th>2318.HK</th>\n",
              "    </tr>\n",
              "  </thead>\n",
              "  <tbody>\n",
              "    <tr>\n",
              "      <th>2019-11-26</th>\n",
              "      <td>1.371148e-21</td>\n",
              "      <td>-3.659589e-22</td>\n",
              "      <td>-7.984108e-23</td>\n",
              "      <td>-1.484480e-22</td>\n",
              "      <td>4.678986e-24</td>\n",
              "      <td>10.224385</td>\n",
              "      <td>5.422551e-21</td>\n",
              "      <td>-2.881622e-21</td>\n",
              "      <td>7.188088</td>\n",
              "      <td>-9.217711e-22</td>\n",
              "      <td>2.815163e-21</td>\n",
              "    </tr>\n",
              "    <tr>\n",
              "      <th>2019-11-27</th>\n",
              "      <td>1.368697e-21</td>\n",
              "      <td>-3.768830e-22</td>\n",
              "      <td>-8.253413e-23</td>\n",
              "      <td>-1.489119e-22</td>\n",
              "      <td>4.705521e-24</td>\n",
              "      <td>10.182857</td>\n",
              "      <td>5.436384e-21</td>\n",
              "      <td>-2.876985e-21</td>\n",
              "      <td>7.279815</td>\n",
              "      <td>-9.488820e-22</td>\n",
              "      <td>2.818254e-21</td>\n",
              "    </tr>\n",
              "    <tr>\n",
              "      <th>2019-11-28</th>\n",
              "      <td>1.380954e-21</td>\n",
              "      <td>-3.979510e-22</td>\n",
              "      <td>-8.435590e-23</td>\n",
              "      <td>-1.484480e-22</td>\n",
              "      <td>4.729107e-24</td>\n",
              "      <td>10.016741</td>\n",
              "      <td>5.422551e-21</td>\n",
              "      <td>-2.902486e-21</td>\n",
              "      <td>7.413237</td>\n",
              "      <td>-9.457539e-22</td>\n",
              "      <td>2.791987e-21</td>\n",
              "    </tr>\n",
              "    <tr>\n",
              "      <th>2019-11-29</th>\n",
              "      <td>1.355623e-21</td>\n",
              "      <td>-3.870268e-22</td>\n",
              "      <td>-8.174205e-23</td>\n",
              "      <td>-1.445049e-22</td>\n",
              "      <td>4.622968e-24</td>\n",
              "      <td>9.800792</td>\n",
              "      <td>5.357997e-21</td>\n",
              "      <td>-2.865394e-21</td>\n",
              "      <td>7.463270</td>\n",
              "      <td>-9.222925e-22</td>\n",
              "      <td>2.740999e-21</td>\n",
              "    </tr>\n",
              "    <tr>\n",
              "      <th>2019-12-02</th>\n",
              "      <td>1.360526e-21</td>\n",
              "      <td>-3.813697e-22</td>\n",
              "      <td>-8.293017e-23</td>\n",
              "      <td>-1.445049e-22</td>\n",
              "      <td>4.652451e-24</td>\n",
              "      <td>9.858932</td>\n",
              "      <td>5.385663e-21</td>\n",
              "      <td>-2.870030e-21</td>\n",
              "      <td>7.446592</td>\n",
              "      <td>-9.118652e-22</td>\n",
              "      <td>2.767266e-21</td>\n",
              "    </tr>\n",
              "    <tr>\n",
              "      <th>...</th>\n",
              "      <td>...</td>\n",
              "      <td>...</td>\n",
              "      <td>...</td>\n",
              "      <td>...</td>\n",
              "      <td>...</td>\n",
              "      <td>...</td>\n",
              "      <td>...</td>\n",
              "      <td>...</td>\n",
              "      <td>...</td>\n",
              "      <td>...</td>\n",
              "      <td>...</td>\n",
              "    </tr>\n",
              "    <tr>\n",
              "      <th>2021-09-13</th>\n",
              "      <td>1.952947e-21</td>\n",
              "      <td>-3.136790e-22</td>\n",
              "      <td>-1.962760e-22</td>\n",
              "      <td>-1.345310e-22</td>\n",
              "      <td>5.557586e-24</td>\n",
              "      <td>8.123030</td>\n",
              "      <td>3.753365e-21</td>\n",
              "      <td>-5.888430e-21</td>\n",
              "      <td>19.512906</td>\n",
              "      <td>-3.603666e-21</td>\n",
              "      <td>1.827848e-21</td>\n",
              "    </tr>\n",
              "    <tr>\n",
              "      <th>2021-09-14</th>\n",
              "      <td>1.931701e-21</td>\n",
              "      <td>-3.088022e-22</td>\n",
              "      <td>-1.940582e-22</td>\n",
              "      <td>-1.312837e-22</td>\n",
              "      <td>5.522206e-24</td>\n",
              "      <td>8.081501</td>\n",
              "      <td>3.707255e-21</td>\n",
              "      <td>-5.847860e-21</td>\n",
              "      <td>19.387824</td>\n",
              "      <td>-3.669358e-21</td>\n",
              "      <td>1.779950e-21</td>\n",
              "    </tr>\n",
              "    <tr>\n",
              "      <th>2021-09-15</th>\n",
              "      <td>1.852439e-21</td>\n",
              "      <td>-3.004140e-22</td>\n",
              "      <td>-1.853454e-22</td>\n",
              "      <td>-1.317476e-22</td>\n",
              "      <td>5.306978e-24</td>\n",
              "      <td>8.081501</td>\n",
              "      <td>3.698032e-21</td>\n",
              "      <td>-5.847860e-21</td>\n",
              "      <td>19.346130</td>\n",
              "      <td>-3.672487e-21</td>\n",
              "      <td>1.752138e-21</td>\n",
              "    </tr>\n",
              "    <tr>\n",
              "      <th>2021-09-16</th>\n",
              "      <td>1.842634e-21</td>\n",
              "      <td>-2.955371e-22</td>\n",
              "      <td>-1.842365e-22</td>\n",
              "      <td>-1.312837e-22</td>\n",
              "      <td>5.194942e-24</td>\n",
              "      <td>7.923691</td>\n",
              "      <td>3.688810e-21</td>\n",
              "      <td>-5.705286e-21</td>\n",
              "      <td>18.887492</td>\n",
              "      <td>-3.641205e-21</td>\n",
              "      <td>1.773769e-21</td>\n",
              "    </tr>\n",
              "    <tr>\n",
              "      <th>2021-09-17</th>\n",
              "      <td>1.886759e-21</td>\n",
              "      <td>-3.021696e-22</td>\n",
              "      <td>-1.907315e-22</td>\n",
              "      <td>-1.310518e-22</td>\n",
              "      <td>5.194942e-24</td>\n",
              "      <td>7.940302</td>\n",
              "      <td>3.711865e-21</td>\n",
              "      <td>-5.700649e-21</td>\n",
              "      <td>19.179352</td>\n",
              "      <td>-3.850793e-21</td>\n",
              "      <td>1.684154e-21</td>\n",
              "    </tr>\n",
              "  </tbody>\n",
              "</table>\n",
              "<p>449 rows × 11 columns</p>\n",
              "</div>"
            ],
            "text/plain": [
              "                 0700.HK       9988.HK  ...       2269.HK       2318.HK\n",
              "2019-11-26  1.371148e-21 -3.659589e-22  ... -9.217711e-22  2.815163e-21\n",
              "2019-11-27  1.368697e-21 -3.768830e-22  ... -9.488820e-22  2.818254e-21\n",
              "2019-11-28  1.380954e-21 -3.979510e-22  ... -9.457539e-22  2.791987e-21\n",
              "2019-11-29  1.355623e-21 -3.870268e-22  ... -9.222925e-22  2.740999e-21\n",
              "2019-12-02  1.360526e-21 -3.813697e-22  ... -9.118652e-22  2.767266e-21\n",
              "...                  ...           ...  ...           ...           ...\n",
              "2021-09-13  1.952947e-21 -3.136790e-22  ... -3.603666e-21  1.827848e-21\n",
              "2021-09-14  1.931701e-21 -3.088022e-22  ... -3.669358e-21  1.779950e-21\n",
              "2021-09-15  1.852439e-21 -3.004140e-22  ... -3.672487e-21  1.752138e-21\n",
              "2021-09-16  1.842634e-21 -2.955371e-22  ... -3.641205e-21  1.773769e-21\n",
              "2021-09-17  1.886759e-21 -3.021696e-22  ... -3.850793e-21  1.684154e-21\n",
              "\n",
              "[449 rows x 11 columns]"
            ]
          },
          "metadata": {},
          "execution_count": 16
        }
      ]
    },
    {
      "cell_type": "code",
      "metadata": {
        "colab": {
          "base_uri": "https://localhost:8080/"
        },
        "id": "ijrDdqf0la4C",
        "outputId": "0e3d5eee-aaf2-492b-cb6a-217a901b2a48"
      },
      "source": [
        "df.apply(lambda x:x.sum(),axis=1)"
      ],
      "execution_count": null,
      "outputs": [
        {
          "output_type": "execute_result",
          "data": {
            "text/plain": [
              "2019-11-26    1207.886682\n",
              "2019-11-27    1217.333323\n",
              "2019-11-28    1234.073322\n",
              "2019-11-29    1209.463306\n",
              "2019-12-02    1211.310008\n",
              "                 ...     \n",
              "2021-09-13    1782.000007\n",
              "2021-09-14    1766.909996\n",
              "2021-09-15    1727.629997\n",
              "2021-09-16    1705.210020\n",
              "2021-09-17    1731.699969\n",
              "Length: 449, dtype: float64"
            ]
          },
          "metadata": {},
          "execution_count": 17
        }
      ]
    },
    {
      "cell_type": "markdown",
      "metadata": {
        "id": "ffZiIWVmWbL4"
      },
      "source": [
        "## 策略与指标"
      ]
    },
    {
      "cell_type": "markdown",
      "metadata": {
        "id": "-ycFSy8HJAQp"
      },
      "source": [
        "### 策略"
      ]
    },
    {
      "cell_type": "code",
      "metadata": {
        "id": "Ya9M_mt0jVIV"
      },
      "source": [
        "# parameters\n",
        "\n",
        "bins = 3 # 先验时间\n",
        "period = 20 # 调仓时间\n",
        "factor = 1 # 风险系数\n",
        "n_days = df.shape[0] # 总天数\n",
        "n_assets = df.shape[1] # 总资产数\n",
        "n_period = n_days // period - bins # 总预测的时间段数\n",
        "capital = 100 # (起始)资金"
      ],
      "execution_count": null,
      "outputs": []
    },
    {
      "cell_type": "code",
      "metadata": {
        "id": "caR2XhWNicnL"
      },
      "source": [
        "# ws = []\n",
        "# acc_ret = pd.DataFrame()"
      ],
      "execution_count": null,
      "outputs": []
    },
    {
      "cell_type": "code",
      "metadata": {
        "id": "pbvj_TWQ3jpi"
      },
      "source": [
        "# 基于Markowitz的策略\n",
        "\n",
        "def simulate(df, bins=3, period=20, factor=1, capital=100):\n",
        "    n_days = df.shape[0]\n",
        "    n_assets = df.shape[1]\n",
        "    n_period = n_days//period - bins\n",
        "    ws = []\n",
        "    acc_ret = pd.DataFrame()\n",
        "\n",
        "    print(\"The dates from {} to {} will be used to initialize the weights.\".format(pd.to_datetime(df.index).date[0], pd.to_datetime(df.index).date[bins*period-1]))\n",
        "    print(\"We start at {} with initial capital {}.\".format(pd.to_datetime(df.index).date[bins*period], capital))\n",
        "    for i in range(n_period):\n",
        "        df_prior = df.iloc[i*period:(i+bins)*period,:]\n",
        "        df_cur = df.iloc[(i+bins)*period:(i+bins+1)*period,:]\n",
        "        Sigma = df_prior.corr().values\n",
        "        mu = np.log((df_prior.iloc[-1,:] / df_prior.iloc[0,:]).values)\n",
        "        w = cp.Variable(n_assets)\n",
        "\n",
        "        ret = mu.T@w\n",
        "        risk = cp.quad_form(w, Sigma)\n",
        "        prob = cp.Problem(cp.Maximize(ret - factor*risk), [cp.sum(w) == 1, w >= 0])\n",
        "        prob.solve()\n",
        "\n",
        "        # print(w.value)\n",
        "        ws.append(w.value)\n",
        "        acc_ret_cur = pd.DataFrame((w.value * (df_cur / df_cur.iloc[0,:]) * capital).apply(lambda x:x.sum(),axis=1))\n",
        "        # print(acc_ret_cur.tail())\n",
        "        acc_ret = acc_ret.append(acc_ret_cur)\n",
        "\n",
        "        capital *= np.sum(w.value * (df_cur.iloc[-1,:] / df_cur.iloc[0,:]).values)\n",
        "        print(\"At date {}, the total capital is return {}.\".format(pd.to_datetime(df.index).date[(i+bins+1)*period-1], capital))\n",
        "\n",
        "    df_prior = df.iloc[n_period*period:(n_period+bins)*period,:]\n",
        "    df_cur = df.iloc[(n_period+bins)*period:,:]\n",
        "    Sigma = df_prior.corr().values\n",
        "    mu = np.log((df_prior.iloc[-1,:] / df_prior.iloc[0,:]).values)\n",
        "    w = cp.Variable(n_assets)\n",
        "\n",
        "    ret = mu.T@w\n",
        "    risk = cp.quad_form(w, Sigma)\n",
        "    prob = cp.Problem(cp.Maximize(ret - factor*risk), [cp.sum(w) == 1, w >= 0])\n",
        "    prob.solve()\n",
        "\n",
        "    # print(w.value)\n",
        "    ws.append(w.value)\n",
        "    acc_ret_cur = pd.DataFrame((w.value * (df_cur / df_cur.iloc[0,:]) * capital).apply(lambda x:x.sum(),axis=1))\n",
        "    # print(acc_ret_cur.tail())\n",
        "    acc_ret = acc_ret.append(acc_ret_cur)\n",
        "\n",
        "    capital *= np.sum(w.value * (df_cur.iloc[-1,:] / df_cur.iloc[0,:]).values)\n",
        "    print(\"Finally at date {}, the total capital is {}.\".format(pd.to_datetime(df.index).date[-1], capital))\n",
        "\n",
        "    return acc_ret, ws"
      ],
      "execution_count": null,
      "outputs": []
    },
    {
      "cell_type": "code",
      "metadata": {
        "colab": {
          "base_uri": "https://localhost:8080/"
        },
        "id": "XqaxNkMb4lXz",
        "outputId": "355b56ad-cd79-43e4-b96d-fdfca1ccedae"
      },
      "source": [
        "acc_ret, ws = simulate(df)"
      ],
      "execution_count": null,
      "outputs": [
        {
          "output_type": "stream",
          "name": "stdout",
          "text": [
            "The dates from 2019-12-02 to 2020-02-28 will be used to initialize the weights.\n",
            "We start at 2020-03-02 with initial capital 100.\n",
            "At date 2020-03-27, the total capital is return 84.81895842790534.\n",
            "At date 2020-04-28, the total capital is return 96.08526662444338.\n",
            "At date 2020-05-28, the total capital is return 93.96693611341983.\n",
            "At date 2020-06-26, the total capital is return 104.38135394795647.\n",
            "At date 2020-07-27, the total capital is return 110.1956068467251.\n",
            "At date 2020-08-24, the total capital is return 140.54443252300916.\n",
            "At date 2020-09-21, the total capital is return 127.14597699091351.\n",
            "At date 2020-10-22, the total capital is return 138.60585405635774.\n",
            "At date 2020-11-20, the total capital is return 153.2220542116342.\n",
            "At date 2020-12-18, the total capital is return 156.37466100264186.\n",
            "At date 2021-01-19, the total capital is return 168.84877745647591.\n",
            "At date 2021-02-18, the total capital is return 167.84735557836677.\n",
            "At date 2021-03-18, the total capital is return 149.2874457917011.\n",
            "At date 2021-04-20, the total capital is return 147.68300700376545.\n",
            "At date 2021-05-18, the total capital is return 145.54415365072003.\n",
            "At date 2021-06-17, the total capital is return 148.10221790459977.\n",
            "At date 2021-07-16, the total capital is return 147.64986207338438.\n",
            "At date 2021-08-13, the total capital is return 142.14832362022295.\n",
            "At date 2021-09-10, the total capital is return 142.03421449910408.\n",
            "Finally at date 2021-09-28, the total capital is 132.82699476032323.\n"
          ]
        }
      ]
    },
    {
      "cell_type": "code",
      "metadata": {
        "colab": {
          "base_uri": "https://localhost:8080/",
          "height": 419
        },
        "id": "izeabyFo_BwO",
        "outputId": "77756351-e264-42ce-b651-b7fed342d2a7"
      },
      "source": [
        "acc_ret"
      ],
      "execution_count": null,
      "outputs": [
        {
          "output_type": "execute_result",
          "data": {
            "text/html": [
              "<div>\n",
              "<style scoped>\n",
              "    .dataframe tbody tr th:only-of-type {\n",
              "        vertical-align: middle;\n",
              "    }\n",
              "\n",
              "    .dataframe tbody tr th {\n",
              "        vertical-align: top;\n",
              "    }\n",
              "\n",
              "    .dataframe thead th {\n",
              "        text-align: right;\n",
              "    }\n",
              "</style>\n",
              "<table border=\"1\" class=\"dataframe\">\n",
              "  <thead>\n",
              "    <tr style=\"text-align: right;\">\n",
              "      <th></th>\n",
              "      <th>0</th>\n",
              "    </tr>\n",
              "  </thead>\n",
              "  <tbody>\n",
              "    <tr>\n",
              "      <th>2020-03-02</th>\n",
              "      <td>100.000000</td>\n",
              "    </tr>\n",
              "    <tr>\n",
              "      <th>2020-03-03</th>\n",
              "      <td>99.768170</td>\n",
              "    </tr>\n",
              "    <tr>\n",
              "      <th>2020-03-04</th>\n",
              "      <td>99.875879</td>\n",
              "    </tr>\n",
              "    <tr>\n",
              "      <th>2020-03-05</th>\n",
              "      <td>101.361259</td>\n",
              "    </tr>\n",
              "    <tr>\n",
              "      <th>2020-03-06</th>\n",
              "      <td>100.117167</td>\n",
              "    </tr>\n",
              "    <tr>\n",
              "      <th>...</th>\n",
              "      <td>...</td>\n",
              "    </tr>\n",
              "    <tr>\n",
              "      <th>2021-09-21</th>\n",
              "      <td>134.198697</td>\n",
              "    </tr>\n",
              "    <tr>\n",
              "      <th>2021-09-23</th>\n",
              "      <td>135.169310</td>\n",
              "    </tr>\n",
              "    <tr>\n",
              "      <th>2021-09-24</th>\n",
              "      <td>133.296934</td>\n",
              "    </tr>\n",
              "    <tr>\n",
              "      <th>2021-09-27</th>\n",
              "      <td>132.985918</td>\n",
              "    </tr>\n",
              "    <tr>\n",
              "      <th>2021-09-28</th>\n",
              "      <td>132.826995</td>\n",
              "    </tr>\n",
              "  </tbody>\n",
              "</table>\n",
              "<p>391 rows × 1 columns</p>\n",
              "</div>"
            ],
            "text/plain": [
              "                     0\n",
              "2020-03-02  100.000000\n",
              "2020-03-03   99.768170\n",
              "2020-03-04   99.875879\n",
              "2020-03-05  101.361259\n",
              "2020-03-06  100.117167\n",
              "...                ...\n",
              "2021-09-21  134.198697\n",
              "2021-09-23  135.169310\n",
              "2021-09-24  133.296934\n",
              "2021-09-27  132.985918\n",
              "2021-09-28  132.826995\n",
              "\n",
              "[391 rows x 1 columns]"
            ]
          },
          "metadata": {},
          "execution_count": 14
        }
      ]
    },
    {
      "cell_type": "code",
      "metadata": {
        "colab": {
          "base_uri": "https://localhost:8080/"
        },
        "id": "6mS-lTDAXKR5",
        "outputId": "99f06cf7-1213-491e-f262-5568119fe2cb"
      },
      "source": [
        "# for i in range(n_period):\n",
        "#     df_prior = df.iloc[i*period:(i+bins)*period,:]\n",
        "#     df_cur = df.iloc[(i+bins)*period:(i+bins+1)*period,:]\n",
        "#     Sigma = df_prior.corr().values\n",
        "#     mu = np.log((df_prior.iloc[-1,:] / df_prior.iloc[0,:]).values)\n",
        "#     w = cp.Variable(n_assets)\n",
        "\n",
        "#     ret = mu.T@w\n",
        "#     risk = cp.quad_form(w, Sigma)\n",
        "#     prob = cp.Problem(cp.Maximize(ret - factor*risk), [cp.sum(w) == 1, w >= 0])\n",
        "#     prob.solve()\n",
        "\n",
        "#     # print(w.value)\n",
        "#     ws.append(w.value)\n",
        "#     acc_ret_cur = pd.DataFrame((w.value * (df_cur / df_cur.iloc[0,:]) * capital).apply(lambda x:x.sum(),axis=1))\n",
        "#     acc_ret = acc_ret.append(acc_ret_cur)\n",
        "\n",
        "#     capital *= np.sum(w.value * (df_cur.iloc[-1,:] / df_cur.iloc[0,:]).values)\n",
        "#     print(\"The date {} has return {}.\".format(pd.to_datetime(df.index).date[(i+bins+1)*period], capital))"
      ],
      "execution_count": null,
      "outputs": [
        {
          "output_type": "stream",
          "name": "stdout",
          "text": [
            "The date 2020-03-30 has return 84.81895842790534.\n",
            "The date 2020-04-29 has return 96.08526662444338.\n",
            "The date 2020-05-29 has return 93.96693611341983.\n",
            "The date 2020-06-29 has return 104.38135394795647.\n",
            "The date 2020-07-28 has return 110.1956068467251.\n",
            "The date 2020-08-25 has return 140.54443252300916.\n",
            "The date 2020-09-22 has return 127.14597699091351.\n",
            "The date 2020-10-23 has return 138.60585405635774.\n",
            "The date 2020-11-23 has return 153.2220542116342.\n",
            "The date 2020-12-21 has return 156.37466100264186.\n",
            "The date 2021-01-20 has return 168.84877745647591.\n",
            "The date 2021-02-19 has return 167.84735557836677.\n",
            "The date 2021-03-19 has return 149.2874457917011.\n",
            "The date 2021-04-21 has return 147.68300700376545.\n",
            "The date 2021-05-20 has return 145.54415365072003.\n",
            "The date 2021-06-18 has return 148.10221790459977.\n",
            "The date 2021-07-19 has return 147.64986207338438.\n",
            "The date 2021-08-16 has return 142.14832362022295.\n",
            "The date 2021-09-13 has return 142.03421449910408.\n"
          ]
        }
      ]
    },
    {
      "cell_type": "code",
      "metadata": {
        "colab": {
          "base_uri": "https://localhost:8080/",
          "height": 294
        },
        "id": "aunXzowZ-frF",
        "outputId": "81052e7d-2b76-4feb-bc4d-565f8a45d2ad"
      },
      "source": [
        "HSI_close.loc[acc_ret.index].plot()"
      ],
      "execution_count": null,
      "outputs": [
        {
          "output_type": "execute_result",
          "data": {
            "text/plain": [
              "<matplotlib.axes._subplots.AxesSubplot at 0x7fa25b3fbb90>"
            ]
          },
          "metadata": {},
          "execution_count": 15
        },
        {
          "output_type": "display_data",
          "data": {
            "image/png": "[encoded data removed]",
            "text/plain": [
              "<Figure size 432x288 with 1 Axes>"
            ]
          },
          "metadata": {
            "needs_background": "light"
          }
        }
      ]
    },
    {
      "cell_type": "code",
      "metadata": {
        "colab": {
          "base_uri": "https://localhost:8080/",
          "height": 280
        },
        "id": "GQh-uAoVikpy",
        "outputId": "9be9f6ec-87fa-4998-e4a8-4640eeeac997"
      },
      "source": [
        "acc_ret.plot()"
      ],
      "execution_count": null,
      "outputs": [
        {
          "output_type": "execute_result",
          "data": {
            "text/plain": [
              "<matplotlib.axes._subplots.AxesSubplot at 0x7fa23cb6af50>"
            ]
          },
          "metadata": {},
          "execution_count": 16
        },
        {
          "output_type": "display_data",
          "data": {
            "image/png": "[encoded data removed]",
            "text/plain": [
              "<Figure size 432x288 with 1 Axes>"
            ]
          },
          "metadata": {
            "needs_background": "light"
          }
        }
      ]
    },
    {
      "cell_type": "markdown",
      "metadata": {
        "id": "cwRMUPifIhh8"
      },
      "source": [
        "### 指标"
      ]
    },
    {
      "cell_type": "code",
      "metadata": {
        "id": "epH9FKspFjX2"
      },
      "source": [
        "# 对参照物胜率\n",
        "\n",
        "def winrate(ret, cmp):\n",
        "    ret.columns = pd.DataFrame(cmp).columns.values.tolist()\n",
        "    residue = ret - pd.DataFrame(cmp.loc[ret.index])\n",
        "    residue = residue.dropna().values.flatten()\n",
        "    return np.sum(residue>=0) / len(residue) * 100"
      ],
      "execution_count": null,
      "outputs": []
    },
    {
      "cell_type": "code",
      "metadata": {
        "colab": {
          "base_uri": "https://localhost:8080/"
        },
        "id": "KqtfZSaqIl5J",
        "outputId": "b31b7149-7f04-4d99-f5bf-d9dcadcea38c"
      },
      "source": [
        "winrate(acc_ret, 100*HSI_close/HSI_close[0])"
      ],
      "execution_count": null,
      "outputs": [
        {
          "output_type": "execute_result",
          "data": {
            "text/plain": [
              "96.41943734015345"
            ]
          },
          "metadata": {},
          "execution_count": 18
        }
      ]
    },
    {
      "cell_type": "code",
      "metadata": {
        "id": "pHqCnylisng9"
      },
      "source": [
        "# 最大回撤率\n",
        "\n",
        "def drawdown(df, p=1):\n",
        "    arr = df.values.flatten()\n",
        "    n = len(arr) - p \n",
        "    res = 0\n",
        "    for i in range(n):\n",
        "        local_max = max(arr[i:i+p+1])\n",
        "        res = max(res, (local_max - arr[i+p])/local_max)\n",
        "    return res*100"
      ],
      "execution_count": null,
      "outputs": []
    },
    {
      "cell_type": "code",
      "metadata": {
        "colab": {
          "base_uri": "https://localhost:8080/"
        },
        "id": "Dr-VQFQespy-",
        "outputId": "0e0ed3f8-dc8f-4479-ee3d-ecc4e08b4f31"
      },
      "source": [
        "drawdown(acc_ret, p=20)"
      ],
      "execution_count": null,
      "outputs": [
        {
          "output_type": "execute_result",
          "data": {
            "text/plain": [
              "18.9466056539965"
            ]
          },
          "metadata": {},
          "execution_count": 20
        }
      ]
    },
    {
      "cell_type": "code",
      "metadata": {
        "colab": {
          "base_uri": "https://localhost:8080/"
        },
        "id": "8Wko-qYGfxzN",
        "outputId": "3eee28be-dc88-4331-dc7d-8674dad2e230"
      },
      "source": [
        "drawdown(HSI_close.loc[acc_ret.index], p=20)"
      ],
      "execution_count": null,
      "outputs": [
        {
          "output_type": "execute_result",
          "data": {
            "text/plain": [
              "14.288055616911697"
            ]
          },
          "metadata": {},
          "execution_count": 21
        }
      ]
    },
    {
      "cell_type": "code",
      "metadata": {
        "id": "R7X6RmPVx2lF"
      },
      "source": [
        "# 夏普比率\n",
        "\n",
        "def sharp_ratio(df, period = 20, risk_free=0):\n",
        "    ind = slice(0, df.shape[0], period)\n",
        "    arr = df[ind].values.flatten()\n",
        "    ret = (arr[1:] / arr[:-1]) - 1\n",
        "    sr = (ret.mean()-risk_free) / ret.std()\n",
        "    return sr"
      ],
      "execution_count": null,
      "outputs": []
    },
    {
      "cell_type": "code",
      "metadata": {
        "colab": {
          "base_uri": "https://localhost:8080/"
        },
        "id": "aZDK7cPOPSo2",
        "outputId": "ce52d014-975c-460f-d10c-31cf14451f7d"
      },
      "source": [
        "sharp_ratio(acc_ret, period=20)"
      ],
      "execution_count": null,
      "outputs": [
        {
          "output_type": "execute_result",
          "data": {
            "text/plain": [
              "0.2414432573980333"
            ]
          },
          "metadata": {},
          "execution_count": 23
        }
      ]
    },
    {
      "cell_type": "markdown",
      "metadata": {
        "id": "GwOI1jUZuCEb"
      },
      "source": [
        "### Efficient Frontier"
      ]
    },
    {
      "cell_type": "code",
      "metadata": {
        "id": "-Oacs7P75NYc"
      },
      "source": [
        "def EF(df1=df, risks=[0,10]):\n",
        "    n_assets = df1.shape[1]\n",
        "    \n",
        "    return"
      ],
      "execution_count": null,
      "outputs": []
    },
    {
      "cell_type": "code",
      "metadata": {
        "id": "K71AjuCffX6I"
      },
      "source": [
        "mu = np.log((df.iloc[-1,:] / df.iloc[0,:]).values)\n",
        "Sigma = df.corr()"
      ],
      "execution_count": null,
      "outputs": []
    },
    {
      "cell_type": "code",
      "metadata": {
        "id": "gggMbMUYfik5"
      },
      "source": [
        "w = cp.Variable(df.shape[1])\n",
        "gamma = cp.Parameter(nonneg=True)\n",
        "ret = mu.T@w \n",
        "risk = cp.quad_form(w, Sigma)\n",
        "prob = cp.Problem(cp.Maximize(ret - gamma*risk), \n",
        "               [cp.sum(w) == 1, \n",
        "                w >= 0])"
      ],
      "execution_count": null,
      "outputs": []
    },
    {
      "cell_type": "code",
      "metadata": {
        "colab": {
          "base_uri": "https://localhost:8080/"
        },
        "id": "YXUsyXWzf-9N",
        "outputId": "58a3a535-7c86-4525-bb8b-2ed0f2b42db7"
      },
      "source": [
        "# Compute trade-off curve.\n",
        "SAMPLES = 100\n",
        "risk_data = np.zeros(SAMPLES)\n",
        "ret_data = np.zeros(SAMPLES)\n",
        "gamma_vals = np.logspace(0, 3, num=SAMPLES)\n",
        "\n",
        "max_sharpe = 0\n",
        "best_factor = gamma_vals[0]\n",
        "\n",
        "for i in range(SAMPLES):\n",
        "    gamma.value = gamma_vals[i]\n",
        "    prob.solve()\n",
        "    risk_data[i] = cp.sqrt(risk).value\n",
        "    ret_data[i] = ret.value\n",
        "\n",
        "    if ret_data[i] / risk_data[i] > max_sharpe:\n",
        "        max_sharpe = ret_data[i] / risk_data[i]\n",
        "        best_factor = gamma_vals[i]\n",
        "print(\"The best risk factor is {} with sharpe ratio {}.\".format(best_factor, max_sharpe))"
      ],
      "execution_count": null,
      "outputs": [
        {
          "output_type": "stream",
          "name": "stdout",
          "text": [
            "The best risk factor is 2.848035868435802 with sharpe ratio 1.9802381851355415.\n"
          ]
        }
      ]
    },
    {
      "cell_type": "code",
      "metadata": {
        "colab": {
          "base_uri": "https://localhost:8080/",
          "height": 371
        },
        "id": "aa79gOUzgGZ_",
        "outputId": "a07fa6f8-b04b-48f6-94a7-2a471b7d9507"
      },
      "source": [
        "import matplotlib.pyplot as plt\n",
        "%matplotlib inline\n",
        "%config InlineBackend.figure_format = 'svg'\n",
        "\n",
        "markers_on = [29, 40]\n",
        "fig = plt.figure()\n",
        "ax = fig.add_subplot(111)\n",
        "plt.plot(risk_data, ret_data, 'g-')\n",
        "\n",
        "# plt.xlim((0,0.6))\n",
        "# plt.ylim((0,1.2))\n",
        "plt.xlabel('Standard deviation')\n",
        "plt.ylabel('Return')\n",
        "plt.grid()\n",
        "plt.show()"
      ],
      "execution_count": null,
      "outputs": [
        {
          "output_type": "display_data",
          "data": {
            "text/plain": [
              "<Figure size 432x288 with 1 Axes>"
            ],
            "image/svg+xml": "<?xml version=\"1.0\" encoding=\"utf-8\" standalone=\"no\"?>\n<!DOCTYPE svg PUBLIC \"-//W3C//DTD SVG 1.1//EN\"\n  \"http://www.w3.org/Graphics/SVG/1.1/DTD/svg11.dtd\">\n<!-- Created with matplotlib (https://matplotlib.org/) -->\n<svg height=\"262.19625pt\" version=\"1.1\" viewBox=\"0 0 385.78125 262.19625\" width=\"385.78125pt\" xmlns=\"http://www.w3.org/2000/svg\" xmlns:xlink=\"http://www.w3.org/1999/xlink\">\n <defs>\n  <style type=\"text/css\">\n*{stroke-linecap:butt;stroke-linejoin:round;}\n  </style>\n </defs>\n <g id=\"figure_1\">\n  <g id=\"patch_1\">\n   <path d=\"M 0 262.19625 \nL 385.78125 262.19625 \nL 385.78125 0 \nL 0 0 \nz\n\" style=\"fill:none;\"/>\n  </g>\n  <g id=\"axes_1\">\n   <g id=\"patch_2\">\n    <path d=\"M 43.78125 224.64 \nL 378.58125 224.64 \nL 378.58125 7.2 \nL 43.78125 7.2 \nz\n\" style=\"fill:#ffffff;\"/>\n   </g>\n   <g id=\"matplotlib.axis_1\">\n    <g id=\"xtick_1\">\n     <g id=\"line2d_1\">\n      <path clip-path=\"url(#pf7a4a31fe0)\" d=\"M 78.015447 224.64 \nL 78.015447 7.2 \n\" style=\"fill:none;stroke:#b0b0b0;stroke-linecap:square;stroke-width:0.8;\"/>\n     </g>\n     <g id=\"line2d_2\">\n      <defs>\n       <path d=\"M 0 0 \nL 0 3.5 \n\" id=\"m9ce3ee4f82\" style=\"stroke:#000000;stroke-width:0.8;\"/>\n      </defs>\n      <g>\n       <use style=\"stroke:#000000;stroke-width:0.8;\" x=\"78.015447\" xlink:href=\"#m9ce3ee4f82\" y=\"224.64\"/>\n      </g>\n     </g>\n     <g id=\"text_1\">\n      <!-- 0.30 -->\n      <defs>\n       <path d=\"M 31.78125 66.40625 \nQ 24.171875 66.40625 20.328125 58.90625 \nQ 16.5 51.421875 16.5 36.375 \nQ 16.5 21.390625 20.328125 13.890625 \nQ 24.171875 6.390625 31.78125 6.390625 \nQ 39.453125 6.390625 43.28125 13.890625 \nQ 47.125 21.390625 47.125 36.375 \nQ 47.125 51.421875 43.28125 58.90625 \nQ 39.453125 66.40625 31.78125 66.40625 \nz\nM 31.78125 74.21875 \nQ 44.046875 74.21875 50.515625 64.515625 \nQ 56.984375 54.828125 56.984375 36.375 \nQ 56.984375 17.96875 50.515625 8.265625 \nQ 44.046875 -1.421875 31.78125 -1.421875 \nQ 19.53125 -1.421875 13.0625 8.265625 \nQ 6.59375 17.96875 6.59375 36.375 \nQ 6.59375 54.828125 13.0625 64.515625 \nQ 19.53125 74.21875 31.78125 74.21875 \nz\n\" id=\"DejaVuSans-48\"/>\n       <path d=\"M 10.6875 12.40625 \nL 21 12.40625 \nL 21 0 \nL 10.6875 0 \nz\n\" id=\"DejaVuSans-46\"/>\n       <path d=\"M 40.578125 39.3125 \nQ 47.65625 37.796875 51.625 33 \nQ 55.609375 28.21875 55.609375 21.1875 \nQ 55.609375 10.40625 48.1875 4.484375 \nQ 40.765625 -1.421875 27.09375 -1.421875 \nQ 22.515625 -1.421875 17.65625 -0.515625 \nQ 12.796875 0.390625 7.625 2.203125 \nL 7.625 11.71875 \nQ 11.71875 9.328125 16.59375 8.109375 \nQ 21.484375 6.890625 26.8125 6.890625 \nQ 36.078125 6.890625 40.9375 10.546875 \nQ 45.796875 14.203125 45.796875 21.1875 \nQ 45.796875 27.640625 41.28125 31.265625 \nQ 36.765625 34.90625 28.71875 34.90625 \nL 20.21875 34.90625 \nL 20.21875 43.015625 \nL 29.109375 43.015625 \nQ 36.375 43.015625 40.234375 45.921875 \nQ 44.09375 48.828125 44.09375 54.296875 \nQ 44.09375 59.90625 40.109375 62.90625 \nQ 36.140625 65.921875 28.71875 65.921875 \nQ 24.65625 65.921875 20.015625 65.03125 \nQ 15.375 64.15625 9.8125 62.3125 \nL 9.8125 71.09375 \nQ 15.4375 72.65625 20.34375 73.4375 \nQ 25.25 74.21875 29.59375 74.21875 \nQ 40.828125 74.21875 47.359375 69.109375 \nQ 53.90625 64.015625 53.90625 55.328125 \nQ 53.90625 49.265625 50.4375 45.09375 \nQ 46.96875 40.921875 40.578125 39.3125 \nz\n\" id=\"DejaVuSans-51\"/>\n      </defs>\n      <g transform=\"translate(66.882634 239.238437)scale(0.1 -0.1)\">\n       <use xlink:href=\"#DejaVuSans-48\"/>\n       <use x=\"63.623047\" xlink:href=\"#DejaVuSans-46\"/>\n       <use x=\"95.410156\" xlink:href=\"#DejaVuSans-51\"/>\n       <use x=\"159.033203\" xlink:href=\"#DejaVuSans-48\"/>\n      </g>\n     </g>\n    </g>\n    <g id=\"xtick_2\">\n     <g id=\"line2d_3\">\n      <path clip-path=\"url(#pf7a4a31fe0)\" d=\"M 130.129229 224.64 \nL 130.129229 7.2 \n\" style=\"fill:none;stroke:#b0b0b0;stroke-linecap:square;stroke-width:0.8;\"/>\n     </g>\n     <g id=\"line2d_4\">\n      <g>\n       <use style=\"stroke:#000000;stroke-width:0.8;\" x=\"130.129229\" xlink:href=\"#m9ce3ee4f82\" y=\"224.64\"/>\n      </g>\n     </g>\n     <g id=\"text_2\">\n      <!-- 0.35 -->\n      <defs>\n       <path d=\"M 10.796875 72.90625 \nL 49.515625 72.90625 \nL 49.515625 64.59375 \nL 19.828125 64.59375 \nL 19.828125 46.734375 \nQ 21.96875 47.46875 24.109375 47.828125 \nQ 26.265625 48.1875 28.421875 48.1875 \nQ 40.625 48.1875 47.75 41.5 \nQ 54.890625 34.8125 54.890625 23.390625 \nQ 54.890625 11.625 47.5625 5.09375 \nQ 40.234375 -1.421875 26.90625 -1.421875 \nQ 22.3125 -1.421875 17.546875 -0.640625 \nQ 12.796875 0.140625 7.71875 1.703125 \nL 7.71875 11.625 \nQ 12.109375 9.234375 16.796875 8.0625 \nQ 21.484375 6.890625 26.703125 6.890625 \nQ 35.15625 6.890625 40.078125 11.328125 \nQ 45.015625 15.765625 45.015625 23.390625 \nQ 45.015625 31 40.078125 35.4375 \nQ 35.15625 39.890625 26.703125 39.890625 \nQ 22.75 39.890625 18.8125 39.015625 \nQ 14.890625 38.140625 10.796875 36.28125 \nz\n\" id=\"DejaVuSans-53\"/>\n      </defs>\n      <g transform=\"translate(118.996417 239.238437)scale(0.1 -0.1)\">\n       <use xlink:href=\"#DejaVuSans-48\"/>\n       <use x=\"63.623047\" xlink:href=\"#DejaVuSans-46\"/>\n       <use x=\"95.410156\" xlink:href=\"#DejaVuSans-51\"/>\n       <use x=\"159.033203\" xlink:href=\"#DejaVuSans-53\"/>\n      </g>\n     </g>\n    </g>\n    <g id=\"xtick_3\">\n     <g id=\"line2d_5\">\n      <path clip-path=\"url(#pf7a4a31fe0)\" d=\"M 182.243012 224.64 \nL 182.243012 7.2 \n\" style=\"fill:none;stroke:#b0b0b0;stroke-linecap:square;stroke-width:0.8;\"/>\n     </g>\n     <g id=\"line2d_6\">\n      <g>\n       <use style=\"stroke:#000000;stroke-width:0.8;\" x=\"182.243012\" xlink:href=\"#m9ce3ee4f82\" y=\"224.64\"/>\n      </g>\n     </g>\n     <g id=\"text_3\">\n      <!-- 0.40 -->\n      <defs>\n       <path d=\"M 37.796875 64.3125 \nL 12.890625 25.390625 \nL 37.796875 25.390625 \nz\nM 35.203125 72.90625 \nL 47.609375 72.90625 \nL 47.609375 25.390625 \nL 58.015625 25.390625 \nL 58.015625 17.1875 \nL 47.609375 17.1875 \nL 47.609375 0 \nL 37.796875 0 \nL 37.796875 17.1875 \nL 4.890625 17.1875 \nL 4.890625 26.703125 \nz\n\" id=\"DejaVuSans-52\"/>\n      </defs>\n      <g transform=\"translate(171.1102 239.238437)scale(0.1 -0.1)\">\n       <use xlink:href=\"#DejaVuSans-48\"/>\n       <use x=\"63.623047\" xlink:href=\"#DejaVuSans-46\"/>\n       <use x=\"95.410156\" xlink:href=\"#DejaVuSans-52\"/>\n       <use x=\"159.033203\" xlink:href=\"#DejaVuSans-48\"/>\n      </g>\n     </g>\n    </g>\n    <g id=\"xtick_4\">\n     <g id=\"line2d_7\">\n      <path clip-path=\"url(#pf7a4a31fe0)\" d=\"M 234.356795 224.64 \nL 234.356795 7.2 \n\" style=\"fill:none;stroke:#b0b0b0;stroke-linecap:square;stroke-width:0.8;\"/>\n     </g>\n     <g id=\"line2d_8\">\n      <g>\n       <use style=\"stroke:#000000;stroke-width:0.8;\" x=\"234.356795\" xlink:href=\"#m9ce3ee4f82\" y=\"224.64\"/>\n      </g>\n     </g>\n     <g id=\"text_4\">\n      <!-- 0.45 -->\n      <g transform=\"translate(223.223982 239.238437)scale(0.1 -0.1)\">\n       <use xlink:href=\"#DejaVuSans-48\"/>\n       <use x=\"63.623047\" xlink:href=\"#DejaVuSans-46\"/>\n       <use x=\"95.410156\" xlink:href=\"#DejaVuSans-52\"/>\n       <use x=\"159.033203\" xlink:href=\"#DejaVuSans-53\"/>\n      </g>\n     </g>\n    </g>\n    <g id=\"xtick_5\">\n     <g id=\"line2d_9\">\n      <path clip-path=\"url(#pf7a4a31fe0)\" d=\"M 286.470578 224.64 \nL 286.470578 7.2 \n\" style=\"fill:none;stroke:#b0b0b0;stroke-linecap:square;stroke-width:0.8;\"/>\n     </g>\n     <g id=\"line2d_10\">\n      <g>\n       <use style=\"stroke:#000000;stroke-width:0.8;\" x=\"286.470578\" xlink:href=\"#m9ce3ee4f82\" y=\"224.64\"/>\n      </g>\n     </g>\n     <g id=\"text_5\">\n      <!-- 0.50 -->\n      <g transform=\"translate(275.337765 239.238437)scale(0.1 -0.1)\">\n       <use xlink:href=\"#DejaVuSans-48\"/>\n       <use x=\"63.623047\" xlink:href=\"#DejaVuSans-46\"/>\n       <use x=\"95.410156\" xlink:href=\"#DejaVuSans-53\"/>\n       <use x=\"159.033203\" xlink:href=\"#DejaVuSans-48\"/>\n      </g>\n     </g>\n    </g>\n    <g id=\"xtick_6\">\n     <g id=\"line2d_11\">\n      <path clip-path=\"url(#pf7a4a31fe0)\" d=\"M 338.58436 224.64 \nL 338.58436 7.2 \n\" style=\"fill:none;stroke:#b0b0b0;stroke-linecap:square;stroke-width:0.8;\"/>\n     </g>\n     <g id=\"line2d_12\">\n      <g>\n       <use style=\"stroke:#000000;stroke-width:0.8;\" x=\"338.58436\" xlink:href=\"#m9ce3ee4f82\" y=\"224.64\"/>\n      </g>\n     </g>\n     <g id=\"text_6\">\n      <!-- 0.55 -->\n      <g transform=\"translate(327.451548 239.238437)scale(0.1 -0.1)\">\n       <use xlink:href=\"#DejaVuSans-48\"/>\n       <use x=\"63.623047\" xlink:href=\"#DejaVuSans-46\"/>\n       <use x=\"95.410156\" xlink:href=\"#DejaVuSans-53\"/>\n       <use x=\"159.033203\" xlink:href=\"#DejaVuSans-53\"/>\n      </g>\n     </g>\n    </g>\n    <g id=\"text_7\">\n     <!-- Standard deviation -->\n     <defs>\n      <path d=\"M 53.515625 70.515625 \nL 53.515625 60.890625 \nQ 47.90625 63.578125 42.921875 64.890625 \nQ 37.9375 66.21875 33.296875 66.21875 \nQ 25.25 66.21875 20.875 63.09375 \nQ 16.5 59.96875 16.5 54.203125 \nQ 16.5 49.359375 19.40625 46.890625 \nQ 22.3125 44.4375 30.421875 42.921875 \nL 36.375 41.703125 \nQ 47.40625 39.59375 52.65625 34.296875 \nQ 57.90625 29 57.90625 20.125 \nQ 57.90625 9.515625 50.796875 4.046875 \nQ 43.703125 -1.421875 29.984375 -1.421875 \nQ 24.8125 -1.421875 18.96875 -0.25 \nQ 13.140625 0.921875 6.890625 3.21875 \nL 6.890625 13.375 \nQ 12.890625 10.015625 18.65625 8.296875 \nQ 24.421875 6.59375 29.984375 6.59375 \nQ 38.421875 6.59375 43.015625 9.90625 \nQ 47.609375 13.234375 47.609375 19.390625 \nQ 47.609375 24.75 44.3125 27.78125 \nQ 41.015625 30.8125 33.5 32.328125 \nL 27.484375 33.5 \nQ 16.453125 35.6875 11.515625 40.375 \nQ 6.59375 45.0625 6.59375 53.421875 \nQ 6.59375 63.09375 13.40625 68.65625 \nQ 20.21875 74.21875 32.171875 74.21875 \nQ 37.3125 74.21875 42.625 73.28125 \nQ 47.953125 72.359375 53.515625 70.515625 \nz\n\" id=\"DejaVuSans-83\"/>\n      <path d=\"M 18.3125 70.21875 \nL 18.3125 54.6875 \nL 36.8125 54.6875 \nL 36.8125 47.703125 \nL 18.3125 47.703125 \nL 18.3125 18.015625 \nQ 18.3125 11.328125 20.140625 9.421875 \nQ 21.96875 7.515625 27.59375 7.515625 \nL 36.8125 7.515625 \nL 36.8125 0 \nL 27.59375 0 \nQ 17.1875 0 13.234375 3.875 \nQ 9.28125 7.765625 9.28125 18.015625 \nL 9.28125 47.703125 \nL 2.6875 47.703125 \nL 2.6875 54.6875 \nL 9.28125 54.6875 \nL 9.28125 70.21875 \nz\n\" id=\"DejaVuSans-116\"/>\n      <path d=\"M 34.28125 27.484375 \nQ 23.390625 27.484375 19.1875 25 \nQ 14.984375 22.515625 14.984375 16.5 \nQ 14.984375 11.71875 18.140625 8.90625 \nQ 21.296875 6.109375 26.703125 6.109375 \nQ 34.1875 6.109375 38.703125 11.40625 \nQ 43.21875 16.703125 43.21875 25.484375 \nL 43.21875 27.484375 \nz\nM 52.203125 31.203125 \nL 52.203125 0 \nL 43.21875 0 \nL 43.21875 8.296875 \nQ 40.140625 3.328125 35.546875 0.953125 \nQ 30.953125 -1.421875 24.3125 -1.421875 \nQ 15.921875 -1.421875 10.953125 3.296875 \nQ 6 8.015625 6 15.921875 \nQ 6 25.140625 12.171875 29.828125 \nQ 18.359375 34.515625 30.609375 34.515625 \nL 43.21875 34.515625 \nL 43.21875 35.40625 \nQ 43.21875 41.609375 39.140625 45 \nQ 35.0625 48.390625 27.6875 48.390625 \nQ 23 48.390625 18.546875 47.265625 \nQ 14.109375 46.140625 10.015625 43.890625 \nL 10.015625 52.203125 \nQ 14.9375 54.109375 19.578125 55.046875 \nQ 24.21875 56 28.609375 56 \nQ 40.484375 56 46.34375 49.84375 \nQ 52.203125 43.703125 52.203125 31.203125 \nz\n\" id=\"DejaVuSans-97\"/>\n      <path d=\"M 54.890625 33.015625 \nL 54.890625 0 \nL 45.90625 0 \nL 45.90625 32.71875 \nQ 45.90625 40.484375 42.875 44.328125 \nQ 39.84375 48.1875 33.796875 48.1875 \nQ 26.515625 48.1875 22.3125 43.546875 \nQ 18.109375 38.921875 18.109375 30.90625 \nL 18.109375 0 \nL 9.078125 0 \nL 9.078125 54.6875 \nL 18.109375 54.6875 \nL 18.109375 46.1875 \nQ 21.34375 51.125 25.703125 53.5625 \nQ 30.078125 56 35.796875 56 \nQ 45.21875 56 50.046875 50.171875 \nQ 54.890625 44.34375 54.890625 33.015625 \nz\n\" id=\"DejaVuSans-110\"/>\n      <path d=\"M 45.40625 46.390625 \nL 45.40625 75.984375 \nL 54.390625 75.984375 \nL 54.390625 0 \nL 45.40625 0 \nL 45.40625 8.203125 \nQ 42.578125 3.328125 38.25 0.953125 \nQ 33.9375 -1.421875 27.875 -1.421875 \nQ 17.96875 -1.421875 11.734375 6.484375 \nQ 5.515625 14.40625 5.515625 27.296875 \nQ 5.515625 40.1875 11.734375 48.09375 \nQ 17.96875 56 27.875 56 \nQ 33.9375 56 38.25 53.625 \nQ 42.578125 51.265625 45.40625 46.390625 \nz\nM 14.796875 27.296875 \nQ 14.796875 17.390625 18.875 11.75 \nQ 22.953125 6.109375 30.078125 6.109375 \nQ 37.203125 6.109375 41.296875 11.75 \nQ 45.40625 17.390625 45.40625 27.296875 \nQ 45.40625 37.203125 41.296875 42.84375 \nQ 37.203125 48.484375 30.078125 48.484375 \nQ 22.953125 48.484375 18.875 42.84375 \nQ 14.796875 37.203125 14.796875 27.296875 \nz\n\" id=\"DejaVuSans-100\"/>\n      <path d=\"M 41.109375 46.296875 \nQ 39.59375 47.171875 37.8125 47.578125 \nQ 36.03125 48 33.890625 48 \nQ 26.265625 48 22.1875 43.046875 \nQ 18.109375 38.09375 18.109375 28.8125 \nL 18.109375 0 \nL 9.078125 0 \nL 9.078125 54.6875 \nL 18.109375 54.6875 \nL 18.109375 46.1875 \nQ 20.953125 51.171875 25.484375 53.578125 \nQ 30.03125 56 36.53125 56 \nQ 37.453125 56 38.578125 55.875 \nQ 39.703125 55.765625 41.0625 55.515625 \nz\n\" id=\"DejaVuSans-114\"/>\n      <path id=\"DejaVuSans-32\"/>\n      <path d=\"M 56.203125 29.59375 \nL 56.203125 25.203125 \nL 14.890625 25.203125 \nQ 15.484375 15.921875 20.484375 11.0625 \nQ 25.484375 6.203125 34.421875 6.203125 \nQ 39.59375 6.203125 44.453125 7.46875 \nQ 49.3125 8.734375 54.109375 11.28125 \nL 54.109375 2.78125 \nQ 49.265625 0.734375 44.1875 -0.34375 \nQ 39.109375 -1.421875 33.890625 -1.421875 \nQ 20.796875 -1.421875 13.15625 6.1875 \nQ 5.515625 13.8125 5.515625 26.8125 \nQ 5.515625 40.234375 12.765625 48.109375 \nQ 20.015625 56 32.328125 56 \nQ 43.359375 56 49.78125 48.890625 \nQ 56.203125 41.796875 56.203125 29.59375 \nz\nM 47.21875 32.234375 \nQ 47.125 39.59375 43.09375 43.984375 \nQ 39.0625 48.390625 32.421875 48.390625 \nQ 24.90625 48.390625 20.390625 44.140625 \nQ 15.875 39.890625 15.1875 32.171875 \nz\n\" id=\"DejaVuSans-101\"/>\n      <path d=\"M 2.984375 54.6875 \nL 12.5 54.6875 \nL 29.59375 8.796875 \nL 46.6875 54.6875 \nL 56.203125 54.6875 \nL 35.6875 0 \nL 23.484375 0 \nz\n\" id=\"DejaVuSans-118\"/>\n      <path d=\"M 9.421875 54.6875 \nL 18.40625 54.6875 \nL 18.40625 0 \nL 9.421875 0 \nz\nM 9.421875 75.984375 \nL 18.40625 75.984375 \nL 18.40625 64.59375 \nL 9.421875 64.59375 \nz\n\" id=\"DejaVuSans-105\"/>\n      <path d=\"M 30.609375 48.390625 \nQ 23.390625 48.390625 19.1875 42.75 \nQ 14.984375 37.109375 14.984375 27.296875 \nQ 14.984375 17.484375 19.15625 11.84375 \nQ 23.34375 6.203125 30.609375 6.203125 \nQ 37.796875 6.203125 41.984375 11.859375 \nQ 46.1875 17.53125 46.1875 27.296875 \nQ 46.1875 37.015625 41.984375 42.703125 \nQ 37.796875 48.390625 30.609375 48.390625 \nz\nM 30.609375 56 \nQ 42.328125 56 49.015625 48.375 \nQ 55.71875 40.765625 55.71875 27.296875 \nQ 55.71875 13.875 49.015625 6.21875 \nQ 42.328125 -1.421875 30.609375 -1.421875 \nQ 18.84375 -1.421875 12.171875 6.21875 \nQ 5.515625 13.875 5.515625 27.296875 \nQ 5.515625 40.765625 12.171875 48.375 \nQ 18.84375 56 30.609375 56 \nz\n\" id=\"DejaVuSans-111\"/>\n     </defs>\n     <g transform=\"translate(163.603906 252.916562)scale(0.1 -0.1)\">\n      <use xlink:href=\"#DejaVuSans-83\"/>\n      <use x=\"63.476562\" xlink:href=\"#DejaVuSans-116\"/>\n      <use x=\"102.685547\" xlink:href=\"#DejaVuSans-97\"/>\n      <use x=\"163.964844\" xlink:href=\"#DejaVuSans-110\"/>\n      <use x=\"227.34375\" xlink:href=\"#DejaVuSans-100\"/>\n      <use x=\"290.820312\" xlink:href=\"#DejaVuSans-97\"/>\n      <use x=\"352.099609\" xlink:href=\"#DejaVuSans-114\"/>\n      <use x=\"391.462891\" xlink:href=\"#DejaVuSans-100\"/>\n      <use x=\"454.939453\" xlink:href=\"#DejaVuSans-32\"/>\n      <use x=\"486.726562\" xlink:href=\"#DejaVuSans-100\"/>\n      <use x=\"550.203125\" xlink:href=\"#DejaVuSans-101\"/>\n      <use x=\"611.726562\" xlink:href=\"#DejaVuSans-118\"/>\n      <use x=\"670.90625\" xlink:href=\"#DejaVuSans-105\"/>\n      <use x=\"698.689453\" xlink:href=\"#DejaVuSans-97\"/>\n      <use x=\"759.96875\" xlink:href=\"#DejaVuSans-116\"/>\n      <use x=\"799.177734\" xlink:href=\"#DejaVuSans-105\"/>\n      <use x=\"826.960938\" xlink:href=\"#DejaVuSans-111\"/>\n      <use x=\"888.142578\" xlink:href=\"#DejaVuSans-110\"/>\n     </g>\n    </g>\n   </g>\n   <g id=\"matplotlib.axis_2\">\n    <g id=\"ytick_1\">\n     <g id=\"line2d_13\">\n      <path clip-path=\"url(#pf7a4a31fe0)\" d=\"M 43.78125 218.389639 \nL 378.58125 218.389639 \n\" style=\"fill:none;stroke:#b0b0b0;stroke-linecap:square;stroke-width:0.8;\"/>\n     </g>\n     <g id=\"line2d_14\">\n      <defs>\n       <path d=\"M 0 0 \nL -3.5 0 \n\" id=\"m45b18a2024\" style=\"stroke:#000000;stroke-width:0.8;\"/>\n      </defs>\n      <g>\n       <use style=\"stroke:#000000;stroke-width:0.8;\" x=\"43.78125\" xlink:href=\"#m45b18a2024\" y=\"218.389639\"/>\n      </g>\n     </g>\n     <g id=\"text_8\">\n      <!-- 0.4 -->\n      <g transform=\"translate(20.878125 222.188858)scale(0.1 -0.1)\">\n       <use xlink:href=\"#DejaVuSans-48\"/>\n       <use x=\"63.623047\" xlink:href=\"#DejaVuSans-46\"/>\n       <use x=\"95.410156\" xlink:href=\"#DejaVuSans-52\"/>\n      </g>\n     </g>\n    </g>\n    <g id=\"ytick_2\">\n     <g id=\"line2d_15\">\n      <path clip-path=\"url(#pf7a4a31fe0)\" d=\"M 43.78125 186.093508 \nL 378.58125 186.093508 \n\" style=\"fill:none;stroke:#b0b0b0;stroke-linecap:square;stroke-width:0.8;\"/>\n     </g>\n     <g id=\"line2d_16\">\n      <g>\n       <use style=\"stroke:#000000;stroke-width:0.8;\" x=\"43.78125\" xlink:href=\"#m45b18a2024\" y=\"186.093508\"/>\n      </g>\n     </g>\n     <g id=\"text_9\">\n      <!-- 0.5 -->\n      <g transform=\"translate(20.878125 189.892727)scale(0.1 -0.1)\">\n       <use xlink:href=\"#DejaVuSans-48\"/>\n       <use x=\"63.623047\" xlink:href=\"#DejaVuSans-46\"/>\n       <use x=\"95.410156\" xlink:href=\"#DejaVuSans-53\"/>\n      </g>\n     </g>\n    </g>\n    <g id=\"ytick_3\">\n     <g id=\"line2d_17\">\n      <path clip-path=\"url(#pf7a4a31fe0)\" d=\"M 43.78125 153.797377 \nL 378.58125 153.797377 \n\" style=\"fill:none;stroke:#b0b0b0;stroke-linecap:square;stroke-width:0.8;\"/>\n     </g>\n     <g id=\"line2d_18\">\n      <g>\n       <use style=\"stroke:#000000;stroke-width:0.8;\" x=\"43.78125\" xlink:href=\"#m45b18a2024\" y=\"153.797377\"/>\n      </g>\n     </g>\n     <g id=\"text_10\">\n      <!-- 0.6 -->\n      <defs>\n       <path d=\"M 33.015625 40.375 \nQ 26.375 40.375 22.484375 35.828125 \nQ 18.609375 31.296875 18.609375 23.390625 \nQ 18.609375 15.53125 22.484375 10.953125 \nQ 26.375 6.390625 33.015625 6.390625 \nQ 39.65625 6.390625 43.53125 10.953125 \nQ 47.40625 15.53125 47.40625 23.390625 \nQ 47.40625 31.296875 43.53125 35.828125 \nQ 39.65625 40.375 33.015625 40.375 \nz\nM 52.59375 71.296875 \nL 52.59375 62.3125 \nQ 48.875 64.0625 45.09375 64.984375 \nQ 41.3125 65.921875 37.59375 65.921875 \nQ 27.828125 65.921875 22.671875 59.328125 \nQ 17.53125 52.734375 16.796875 39.40625 \nQ 19.671875 43.65625 24.015625 45.921875 \nQ 28.375 48.1875 33.59375 48.1875 \nQ 44.578125 48.1875 50.953125 41.515625 \nQ 57.328125 34.859375 57.328125 23.390625 \nQ 57.328125 12.15625 50.6875 5.359375 \nQ 44.046875 -1.421875 33.015625 -1.421875 \nQ 20.359375 -1.421875 13.671875 8.265625 \nQ 6.984375 17.96875 6.984375 36.375 \nQ 6.984375 53.65625 15.1875 63.9375 \nQ 23.390625 74.21875 37.203125 74.21875 \nQ 40.921875 74.21875 44.703125 73.484375 \nQ 48.484375 72.75 52.59375 71.296875 \nz\n\" id=\"DejaVuSans-54\"/>\n      </defs>\n      <g transform=\"translate(20.878125 157.596596)scale(0.1 -0.1)\">\n       <use xlink:href=\"#DejaVuSans-48\"/>\n       <use x=\"63.623047\" xlink:href=\"#DejaVuSans-46\"/>\n       <use x=\"95.410156\" xlink:href=\"#DejaVuSans-54\"/>\n      </g>\n     </g>\n    </g>\n    <g id=\"ytick_4\">\n     <g id=\"line2d_19\">\n      <path clip-path=\"url(#pf7a4a31fe0)\" d=\"M 43.78125 121.501246 \nL 378.58125 121.501246 \n\" style=\"fill:none;stroke:#b0b0b0;stroke-linecap:square;stroke-width:0.8;\"/>\n     </g>\n     <g id=\"line2d_20\">\n      <g>\n       <use style=\"stroke:#000000;stroke-width:0.8;\" x=\"43.78125\" xlink:href=\"#m45b18a2024\" y=\"121.501246\"/>\n      </g>\n     </g>\n     <g id=\"text_11\">\n      <!-- 0.7 -->\n      <defs>\n       <path d=\"M 8.203125 72.90625 \nL 55.078125 72.90625 \nL 55.078125 68.703125 \nL 28.609375 0 \nL 18.3125 0 \nL 43.21875 64.59375 \nL 8.203125 64.59375 \nz\n\" id=\"DejaVuSans-55\"/>\n      </defs>\n      <g transform=\"translate(20.878125 125.300465)scale(0.1 -0.1)\">\n       <use xlink:href=\"#DejaVuSans-48\"/>\n       <use x=\"63.623047\" xlink:href=\"#DejaVuSans-46\"/>\n       <use x=\"95.410156\" xlink:href=\"#DejaVuSans-55\"/>\n      </g>\n     </g>\n    </g>\n    <g id=\"ytick_5\">\n     <g id=\"line2d_21\">\n      <path clip-path=\"url(#pf7a4a31fe0)\" d=\"M 43.78125 89.205115 \nL 378.58125 89.205115 \n\" style=\"fill:none;stroke:#b0b0b0;stroke-linecap:square;stroke-width:0.8;\"/>\n     </g>\n     <g id=\"line2d_22\">\n      <g>\n       <use style=\"stroke:#000000;stroke-width:0.8;\" x=\"43.78125\" xlink:href=\"#m45b18a2024\" y=\"89.205115\"/>\n      </g>\n     </g>\n     <g id=\"text_12\">\n      <!-- 0.8 -->\n      <defs>\n       <path d=\"M 31.78125 34.625 \nQ 24.75 34.625 20.71875 30.859375 \nQ 16.703125 27.09375 16.703125 20.515625 \nQ 16.703125 13.921875 20.71875 10.15625 \nQ 24.75 6.390625 31.78125 6.390625 \nQ 38.8125 6.390625 42.859375 10.171875 \nQ 46.921875 13.96875 46.921875 20.515625 \nQ 46.921875 27.09375 42.890625 30.859375 \nQ 38.875 34.625 31.78125 34.625 \nz\nM 21.921875 38.8125 \nQ 15.578125 40.375 12.03125 44.71875 \nQ 8.5 49.078125 8.5 55.328125 \nQ 8.5 64.0625 14.71875 69.140625 \nQ 20.953125 74.21875 31.78125 74.21875 \nQ 42.671875 74.21875 48.875 69.140625 \nQ 55.078125 64.0625 55.078125 55.328125 \nQ 55.078125 49.078125 51.53125 44.71875 \nQ 48 40.375 41.703125 38.8125 \nQ 48.828125 37.15625 52.796875 32.3125 \nQ 56.78125 27.484375 56.78125 20.515625 \nQ 56.78125 9.90625 50.3125 4.234375 \nQ 43.84375 -1.421875 31.78125 -1.421875 \nQ 19.734375 -1.421875 13.25 4.234375 \nQ 6.78125 9.90625 6.78125 20.515625 \nQ 6.78125 27.484375 10.78125 32.3125 \nQ 14.796875 37.15625 21.921875 38.8125 \nz\nM 18.3125 54.390625 \nQ 18.3125 48.734375 21.84375 45.5625 \nQ 25.390625 42.390625 31.78125 42.390625 \nQ 38.140625 42.390625 41.71875 45.5625 \nQ 45.3125 48.734375 45.3125 54.390625 \nQ 45.3125 60.0625 41.71875 63.234375 \nQ 38.140625 66.40625 31.78125 66.40625 \nQ 25.390625 66.40625 21.84375 63.234375 \nQ 18.3125 60.0625 18.3125 54.390625 \nz\n\" id=\"DejaVuSans-56\"/>\n      </defs>\n      <g transform=\"translate(20.878125 93.004334)scale(0.1 -0.1)\">\n       <use xlink:href=\"#DejaVuSans-48\"/>\n       <use x=\"63.623047\" xlink:href=\"#DejaVuSans-46\"/>\n       <use x=\"95.410156\" xlink:href=\"#DejaVuSans-56\"/>\n      </g>\n     </g>\n    </g>\n    <g id=\"ytick_6\">\n     <g id=\"line2d_23\">\n      <path clip-path=\"url(#pf7a4a31fe0)\" d=\"M 43.78125 56.908984 \nL 378.58125 56.908984 \n\" style=\"fill:none;stroke:#b0b0b0;stroke-linecap:square;stroke-width:0.8;\"/>\n     </g>\n     <g id=\"line2d_24\">\n      <g>\n       <use style=\"stroke:#000000;stroke-width:0.8;\" x=\"43.78125\" xlink:href=\"#m45b18a2024\" y=\"56.908984\"/>\n      </g>\n     </g>\n     <g id=\"text_13\">\n      <!-- 0.9 -->\n      <defs>\n       <path d=\"M 10.984375 1.515625 \nL 10.984375 10.5 \nQ 14.703125 8.734375 18.5 7.8125 \nQ 22.3125 6.890625 25.984375 6.890625 \nQ 35.75 6.890625 40.890625 13.453125 \nQ 46.046875 20.015625 46.78125 33.40625 \nQ 43.953125 29.203125 39.59375 26.953125 \nQ 35.25 24.703125 29.984375 24.703125 \nQ 19.046875 24.703125 12.671875 31.3125 \nQ 6.296875 37.9375 6.296875 49.421875 \nQ 6.296875 60.640625 12.9375 67.421875 \nQ 19.578125 74.21875 30.609375 74.21875 \nQ 43.265625 74.21875 49.921875 64.515625 \nQ 56.59375 54.828125 56.59375 36.375 \nQ 56.59375 19.140625 48.40625 8.859375 \nQ 40.234375 -1.421875 26.421875 -1.421875 \nQ 22.703125 -1.421875 18.890625 -0.6875 \nQ 15.09375 0.046875 10.984375 1.515625 \nz\nM 30.609375 32.421875 \nQ 37.25 32.421875 41.125 36.953125 \nQ 45.015625 41.5 45.015625 49.421875 \nQ 45.015625 57.28125 41.125 61.84375 \nQ 37.25 66.40625 30.609375 66.40625 \nQ 23.96875 66.40625 20.09375 61.84375 \nQ 16.21875 57.28125 16.21875 49.421875 \nQ 16.21875 41.5 20.09375 36.953125 \nQ 23.96875 32.421875 30.609375 32.421875 \nz\n\" id=\"DejaVuSans-57\"/>\n      </defs>\n      <g transform=\"translate(20.878125 60.708203)scale(0.1 -0.1)\">\n       <use xlink:href=\"#DejaVuSans-48\"/>\n       <use x=\"63.623047\" xlink:href=\"#DejaVuSans-46\"/>\n       <use x=\"95.410156\" xlink:href=\"#DejaVuSans-57\"/>\n      </g>\n     </g>\n    </g>\n    <g id=\"ytick_7\">\n     <g id=\"line2d_25\">\n      <path clip-path=\"url(#pf7a4a31fe0)\" d=\"M 43.78125 24.612853 \nL 378.58125 24.612853 \n\" style=\"fill:none;stroke:#b0b0b0;stroke-linecap:square;stroke-width:0.8;\"/>\n     </g>\n     <g id=\"line2d_26\">\n      <g>\n       <use style=\"stroke:#000000;stroke-width:0.8;\" x=\"43.78125\" xlink:href=\"#m45b18a2024\" y=\"24.612853\"/>\n      </g>\n     </g>\n     <g id=\"text_14\">\n      <!-- 1.0 -->\n      <defs>\n       <path d=\"M 12.40625 8.296875 \nL 28.515625 8.296875 \nL 28.515625 63.921875 \nL 10.984375 60.40625 \nL 10.984375 69.390625 \nL 28.421875 72.90625 \nL 38.28125 72.90625 \nL 38.28125 8.296875 \nL 54.390625 8.296875 \nL 54.390625 0 \nL 12.40625 0 \nz\n\" id=\"DejaVuSans-49\"/>\n      </defs>\n      <g transform=\"translate(20.878125 28.412072)scale(0.1 -0.1)\">\n       <use xlink:href=\"#DejaVuSans-49\"/>\n       <use x=\"63.623047\" xlink:href=\"#DejaVuSans-46\"/>\n       <use x=\"95.410156\" xlink:href=\"#DejaVuSans-48\"/>\n      </g>\n     </g>\n    </g>\n    <g id=\"text_15\">\n     <!-- Return -->\n     <defs>\n      <path d=\"M 44.390625 34.1875 \nQ 47.5625 33.109375 50.5625 29.59375 \nQ 53.5625 26.078125 56.59375 19.921875 \nL 66.609375 0 \nL 56 0 \nL 46.6875 18.703125 \nQ 43.0625 26.03125 39.671875 28.421875 \nQ 36.28125 30.8125 30.421875 30.8125 \nL 19.671875 30.8125 \nL 19.671875 0 \nL 9.8125 0 \nL 9.8125 72.90625 \nL 32.078125 72.90625 \nQ 44.578125 72.90625 50.734375 67.671875 \nQ 56.890625 62.453125 56.890625 51.90625 \nQ 56.890625 45.015625 53.6875 40.46875 \nQ 50.484375 35.9375 44.390625 34.1875 \nz\nM 19.671875 64.796875 \nL 19.671875 38.921875 \nL 32.078125 38.921875 \nQ 39.203125 38.921875 42.84375 42.21875 \nQ 46.484375 45.515625 46.484375 51.90625 \nQ 46.484375 58.296875 42.84375 61.546875 \nQ 39.203125 64.796875 32.078125 64.796875 \nz\n\" id=\"DejaVuSans-82\"/>\n      <path d=\"M 8.5 21.578125 \nL 8.5 54.6875 \nL 17.484375 54.6875 \nL 17.484375 21.921875 \nQ 17.484375 14.15625 20.5 10.265625 \nQ 23.53125 6.390625 29.59375 6.390625 \nQ 36.859375 6.390625 41.078125 11.03125 \nQ 45.3125 15.671875 45.3125 23.6875 \nL 45.3125 54.6875 \nL 54.296875 54.6875 \nL 54.296875 0 \nL 45.3125 0 \nL 45.3125 8.40625 \nQ 42.046875 3.421875 37.71875 1 \nQ 33.40625 -1.421875 27.6875 -1.421875 \nQ 18.265625 -1.421875 13.375 4.4375 \nQ 8.5 10.296875 8.5 21.578125 \nz\nM 31.109375 56 \nz\n\" id=\"DejaVuSans-117\"/>\n     </defs>\n     <g transform=\"translate(14.798438 132.511406)rotate(-90)scale(0.1 -0.1)\">\n      <use xlink:href=\"#DejaVuSans-82\"/>\n      <use x=\"64.982422\" xlink:href=\"#DejaVuSans-101\"/>\n      <use x=\"126.505859\" xlink:href=\"#DejaVuSans-116\"/>\n      <use x=\"165.714844\" xlink:href=\"#DejaVuSans-117\"/>\n      <use x=\"229.09375\" xlink:href=\"#DejaVuSans-114\"/>\n      <use x=\"268.457031\" xlink:href=\"#DejaVuSans-110\"/>\n     </g>\n    </g>\n   </g>\n   <g id=\"line2d_27\">\n    <path clip-path=\"url(#pf7a4a31fe0)\" d=\"M 363.363068 17.083636 \nL 338.620458 26.000106 \nL 316.197702 34.315635 \nL 295.925607 42.070725 \nL 277.642139 49.303148 \nL 261.192257 56.04813 \nL 246.427862 62.338523 \nL 233.207864 68.204965 \nL 221.398301 73.676028 \nL 210.872494 78.778359 \nL 197.321994 85.665216 \nL 182.261452 93.568529 \nL 168.705602 100.939185 \nL 156.533657 107.813084 \nL 145.630483 114.223705 \nL 135.886692 120.202272 \nL 127.198772 125.777904 \nL 119.4692 130.977756 \nL 112.606551 135.827156 \nL 106.525552 140.349722 \nL 101.147084 144.567483 \nL 96.398128 148.500981 \nL 92.211633 152.169374 \nL 88.526342 155.590529 \nL 85.28655 158.781111 \nL 82.441833 161.756657 \nL 79.946729 164.531662 \nL 77.760412 167.119641 \nL 75.84635 169.533199 \nL 74.07545 171.916374 \nL 72.374912 174.353487 \nL 70.888176 176.626347 \nL 69.589182 178.746023 \nL 68.454857 180.722841 \nL 67.464816 182.566427 \nL 66.554173 184.381706 \nL 65.580799 186.452668 \nL 64.731635 188.384053 \nL 63.991112 190.185269 \nL 63.345547 191.86509 \nL 62.782928 193.431696 \nL 62.292724 194.892718 \nL 61.86571 196.255273 \nL 61.493815 197.525995 \nL 61.16998 198.711076 \nL 60.888036 199.816285 \nL 60.642596 200.847008 \nL 60.42896 201.808263 \nL 60.243024 202.704732 \nL 60.08121 203.540783 \nL 59.940401 204.320487 \nL 59.817878 205.047641 \nL 59.711272 205.725787 \nL 59.61852 206.358229 \nL 59.537826 206.948046 \nL 59.467623 207.498112 \nL 59.406552 208.011104 \nL 59.353424 208.489523 \nL 59.307209 208.935698 \nL 59.267007 209.351803 \nL 59.232037 209.739863 \nL 59.201619 210.10177 \nL 59.17516 210.439285 \nL 59.152146 210.754052 \nL 59.132127 211.047606 \nL 59.114715 211.321375 \nL 59.09957 211.576692 \nL 59.086397 211.814803 \nL 59.07494 212.036865 \nL 59.064974 212.243961 \nL 59.056306 212.4371 \nL 59.048767 212.617221 \nL 59.04221 212.785203 \nL 59.036507 212.941864 \nL 59.031546 213.087966 \nL 59.027232 213.224222 \nL 59.023479 213.351294 \nL 59.020215 213.469802 \nL 59.017376 213.580323 \nL 59.014907 213.683395 \nL 59.01276 213.779521 \nL 59.010892 213.869168 \nL 59.009268 213.952773 \nL 59.007855 214.030743 \nL 59.006626 214.103458 \nL 59.005557 214.171273 \nL 59.004628 214.234517 \nL 59.003819 214.293499 \nL 59.003116 214.348506 \nL 59.002504 214.399805 \nL 59.001972 214.447647 \nL 59.00151 214.492264 \nL 59.001107 214.533875 \nL 59.000757 214.572681 \nL 59.000453 214.608871 \nL 59.000188 214.642623 \nL 58.999958 214.6741 \nL 58.999758 214.703455 \nL 58.999583 214.730832 \nL 58.999432 214.756364 \n\" style=\"fill:none;stroke:#008000;stroke-linecap:square;stroke-width:1.5;\"/>\n   </g>\n   <g id=\"patch_3\">\n    <path d=\"M 43.78125 224.64 \nL 43.78125 7.2 \n\" style=\"fill:none;stroke:#000000;stroke-linecap:square;stroke-linejoin:miter;stroke-width:0.8;\"/>\n   </g>\n   <g id=\"patch_4\">\n    <path d=\"M 378.58125 224.64 \nL 378.58125 7.2 \n\" style=\"fill:none;stroke:#000000;stroke-linecap:square;stroke-linejoin:miter;stroke-width:0.8;\"/>\n   </g>\n   <g id=\"patch_5\">\n    <path d=\"M 43.78125 224.64 \nL 378.58125 224.64 \n\" style=\"fill:none;stroke:#000000;stroke-linecap:square;stroke-linejoin:miter;stroke-width:0.8;\"/>\n   </g>\n   <g id=\"patch_6\">\n    <path d=\"M 43.78125 7.2 \nL 378.58125 7.2 \n\" style=\"fill:none;stroke:#000000;stroke-linecap:square;stroke-linejoin:miter;stroke-width:0.8;\"/>\n   </g>\n  </g>\n </g>\n <defs>\n  <clipPath id=\"pf7a4a31fe0\">\n   <rect height=\"217.44\" width=\"334.8\" x=\"43.78125\" y=\"7.2\"/>\n  </clipPath>\n </defs>\n</svg>\n"
          },
          "metadata": {
            "needs_background": "light"
          }
        }
      ]
    },
    {
      "cell_type": "code",
      "metadata": {
        "id": "SRJjfQAHgNj-"
      },
      "source": [
        ""
      ],
      "execution_count": null,
      "outputs": []
    }
  ]
}