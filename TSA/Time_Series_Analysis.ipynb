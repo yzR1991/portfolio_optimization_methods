{
  "nbformat": 4,
  "nbformat_minor": 0,
  "metadata": {
    "colab": {
      "name": "Time Series Analysis.ipynb",
      "provenance": [],
      "collapsed_sections": [],
      "toc_visible": true
    },
    "kernelspec": {
      "name": "python3",
      "display_name": "Python 3"
    },
    "language_info": {
      "name": "python"
    }
  },
  "cells": [
    {
      "cell_type": "markdown",
      "metadata": {
        "id": "uqhHe74ZnSgM"
      },
      "source": [
        "## DATA"
      ]
    },
    {
      "cell_type": "code",
      "metadata": {
        "id": "M3dlR5zQktxg"
      },
      "source": [
        "!pip install --upgrade pandas\n",
        "!pip install --upgrade pandas-datareader"
      ],
      "execution_count": null,
      "outputs": []
    },
    {
      "cell_type": "code",
      "metadata": {
        "id": "42gjqgFfnnRC"
      },
      "source": [
        "import pandas as pd\n",
        "import numpy as np\n",
        "import datetime\n",
        "import pandas_datareader.data as web\n",
        "\n",
        "from statsmodels.tsa.stattools import adfuller\n",
        "from statsmodels.tsa.stattools import acf, pacf\n",
        "from statsmodels.tsa.seasonal import seasonal_decompose\n",
        "from statsmodels.tsa.arima_model import ARIMA\n",
        "from statsmodels.tsa.arima_model import ARMA\n",
        "from statsmodels.stats.diagnostic import acorr_ljungbox\n",
        "import statsmodels as sm\n",
        "\n",
        "from scipy.stats import kstest\n",
        "from sklearn.metrics import r2_score\n",
        "\n",
        "import matplotlib.pylab as plt\n",
        "from matplotlib.pylab import rcParams\n",
        "rcParams['figure.figsize'] = 10, 6"
      ],
      "execution_count": null,
      "outputs": []
    },
    {
      "cell_type": "code",
      "metadata": {
        "colab": {
          "base_uri": "https://localhost:8080/",
          "height": 235
        },
        "id": "lrzWOcXsnaz8",
        "outputId": "43b6aa0a-60a4-4545-f0fd-974c14d2d99e"
      },
      "source": [
        "start = datetime.date(2020,1,1)\n",
        "end = datetime.date(2021,1,1)\n",
        "HSI = pd.DataFrame(web.DataReader('^HSI','yahoo',start,end).iloc[:,3])\n",
        "HSI.tail()"
      ],
      "execution_count": null,
      "outputs": [
        {
          "output_type": "execute_result",
          "data": {
            "text/html": [
              "<div>\n",
              "<style scoped>\n",
              "    .dataframe tbody tr th:only-of-type {\n",
              "        vertical-align: middle;\n",
              "    }\n",
              "\n",
              "    .dataframe tbody tr th {\n",
              "        vertical-align: top;\n",
              "    }\n",
              "\n",
              "    .dataframe thead th {\n",
              "        text-align: right;\n",
              "    }\n",
              "</style>\n",
              "<table border=\"1\" class=\"dataframe\">\n",
              "  <thead>\n",
              "    <tr style=\"text-align: right;\">\n",
              "      <th></th>\n",
              "      <th>Close</th>\n",
              "    </tr>\n",
              "    <tr>\n",
              "      <th>Date</th>\n",
              "      <th></th>\n",
              "    </tr>\n",
              "  </thead>\n",
              "  <tbody>\n",
              "    <tr>\n",
              "      <th>2020-12-24</th>\n",
              "      <td>26386.560547</td>\n",
              "    </tr>\n",
              "    <tr>\n",
              "      <th>2020-12-28</th>\n",
              "      <td>26314.630859</td>\n",
              "    </tr>\n",
              "    <tr>\n",
              "      <th>2020-12-29</th>\n",
              "      <td>26568.490234</td>\n",
              "    </tr>\n",
              "    <tr>\n",
              "      <th>2020-12-30</th>\n",
              "      <td>27147.109375</td>\n",
              "    </tr>\n",
              "    <tr>\n",
              "      <th>2020-12-31</th>\n",
              "      <td>27231.130859</td>\n",
              "    </tr>\n",
              "  </tbody>\n",
              "</table>\n",
              "</div>"
            ],
            "text/plain": [
              "                   Close\n",
              "Date                    \n",
              "2020-12-24  26386.560547\n",
              "2020-12-28  26314.630859\n",
              "2020-12-29  26568.490234\n",
              "2020-12-30  27147.109375\n",
              "2020-12-31  27231.130859"
            ]
          },
          "metadata": {},
          "execution_count": 2
        }
      ]
    },
    {
      "cell_type": "code",
      "metadata": {
        "colab": {
          "base_uri": "https://localhost:8080/",
          "height": 235
        },
        "id": "61tgFxfpry9U",
        "outputId": "fcdda0d3-895d-4dbb-c125-e13385832c18"
      },
      "source": [
        "# 取log return\n",
        "HSI['Close'] = HSI['Close'] / HSI['Close'].shift(1)\n",
        "HSI['Close'] = HSI['Close'].apply(np.log)\n",
        "\n",
        "HSI = HSI.dropna()\n",
        "HSI.columns = ['Return']\n",
        "HSI.tail()"
      ],
      "execution_count": null,
      "outputs": [
        {
          "output_type": "execute_result",
          "data": {
            "text/html": [
              "<div>\n",
              "<style scoped>\n",
              "    .dataframe tbody tr th:only-of-type {\n",
              "        vertical-align: middle;\n",
              "    }\n",
              "\n",
              "    .dataframe tbody tr th {\n",
              "        vertical-align: top;\n",
              "    }\n",
              "\n",
              "    .dataframe thead th {\n",
              "        text-align: right;\n",
              "    }\n",
              "</style>\n",
              "<table border=\"1\" class=\"dataframe\">\n",
              "  <thead>\n",
              "    <tr style=\"text-align: right;\">\n",
              "      <th></th>\n",
              "      <th>Return</th>\n",
              "    </tr>\n",
              "    <tr>\n",
              "      <th>Date</th>\n",
              "      <th></th>\n",
              "    </tr>\n",
              "  </thead>\n",
              "  <tbody>\n",
              "    <tr>\n",
              "      <th>2020-12-24</th>\n",
              "      <td>0.001648</td>\n",
              "    </tr>\n",
              "    <tr>\n",
              "      <th>2020-12-28</th>\n",
              "      <td>-0.002730</td>\n",
              "    </tr>\n",
              "    <tr>\n",
              "      <th>2020-12-29</th>\n",
              "      <td>0.009601</td>\n",
              "    </tr>\n",
              "    <tr>\n",
              "      <th>2020-12-30</th>\n",
              "      <td>0.021545</td>\n",
              "    </tr>\n",
              "    <tr>\n",
              "      <th>2020-12-31</th>\n",
              "      <td>0.003090</td>\n",
              "    </tr>\n",
              "  </tbody>\n",
              "</table>\n",
              "</div>"
            ],
            "text/plain": [
              "              Return\n",
              "Date                \n",
              "2020-12-24  0.001648\n",
              "2020-12-28 -0.002730\n",
              "2020-12-29  0.009601\n",
              "2020-12-30  0.021545\n",
              "2020-12-31  0.003090"
            ]
          },
          "metadata": {},
          "execution_count": 3
        }
      ]
    },
    {
      "cell_type": "markdown",
      "metadata": {
        "id": "EmTyLs0vpzI7"
      },
      "source": [
        "## Experiment"
      ]
    },
    {
      "cell_type": "code",
      "metadata": {
        "colab": {
          "base_uri": "https://localhost:8080/",
          "height": 294
        },
        "id": "JCzJtHyFoeFD",
        "outputId": "c10ce5b9-b99b-4555-a0bd-cc5be169cf7d"
      },
      "source": [
        "HSI.plot()"
      ],
      "execution_count": null,
      "outputs": [
        {
          "output_type": "execute_result",
          "data": {
            "text/plain": [
              "<matplotlib.axes._subplots.AxesSubplot at 0x7f97355677d0>"
            ]
          },
          "metadata": {},
          "execution_count": 4
        },
        {
          "output_type": "display_data",
          "data": {
            "image/png": "[encoded data removed]",
            "text/plain": [
              "<Figure size 432x288 with 1 Axes>"
            ]
          },
          "metadata": {
            "needs_background": "light"
          }
        }
      ]
    },
    {
      "cell_type": "markdown",
      "metadata": {
        "id": "QAfErud735QZ"
      },
      "source": [
        "### LB test"
      ]
    },
    {
      "cell_type": "code",
      "metadata": {
        "colab": {
          "base_uri": "https://localhost:8080/"
        },
        "id": "_bYa4X552ds6",
        "outputId": "b813a46f-c0ef-445e-d415-54d0163b406c"
      },
      "source": [
        "# 检验是否为相关序列，p值大则不是\n",
        "\n",
        "acorr_ljungbox(HSI['Return'].values, lags=10)[1]"
      ],
      "execution_count": null,
      "outputs": [
        {
          "output_type": "execute_result",
          "data": {
            "text/plain": [
              "array([0.21655369, 0.45059208, 0.35046741, 0.34580351, 0.22969771,\n",
              "       0.09821605, 0.14658338, 0.18024183, 0.21250528, 0.26637177])"
            ]
          },
          "metadata": {},
          "execution_count": 5
        }
      ]
    },
    {
      "cell_type": "code",
      "metadata": {
        "colab": {
          "base_uri": "https://localhost:8080/"
        },
        "id": "kE4zjU928AaO",
        "outputId": "68d476f7-d8a2-450d-e39f-6f48510c55a6"
      },
      "source": [
        "# 检验是否正态分布, p值大则是\n",
        "\n",
        "a = HSI.values.flatten()\n",
        "a = (a - a.mean()) / a.std()\n",
        "kstest(a, 'norm')"
      ],
      "execution_count": null,
      "outputs": [
        {
          "output_type": "execute_result",
          "data": {
            "text/plain": [
              "KstestResult(statistic=0.09617093123039425, pvalue=0.019344253402844444)"
            ]
          },
          "metadata": {},
          "execution_count": 6
        }
      ]
    },
    {
      "cell_type": "markdown",
      "metadata": {
        "id": "8kHw559F2V7M"
      },
      "source": [
        "### 单位根检查"
      ]
    },
    {
      "cell_type": "code",
      "metadata": {
        "colab": {
          "base_uri": "https://localhost:8080/"
        },
        "id": "X1CDN_Ubty0H",
        "outputId": "e7e487cc-ddf8-4720-9177-11e68e828ebe"
      },
      "source": [
        "# index 1为p值，过小则显示无单位根\n",
        "\n",
        "dftest = adfuller(HSI['Return'], autolag='AIC')\n",
        "dftest"
      ],
      "execution_count": null,
      "outputs": [
        {
          "output_type": "execute_result",
          "data": {
            "text/plain": [
              "(-16.892975695115467,\n",
              " 1.0416655650459056e-29,\n",
              " 0,\n",
              " 246,\n",
              " {'1%': -3.457215237265747,\n",
              "  '10%': -2.5730700760129555,\n",
              "  '5%': -2.873361841566324},\n",
              " -1280.5914499646378)"
            ]
          },
          "metadata": {},
          "execution_count": 7
        }
      ]
    },
    {
      "cell_type": "markdown",
      "metadata": {
        "id": "ehfI5sL72Ymy"
      },
      "source": [
        "### ARMA定阶"
      ]
    },
    {
      "cell_type": "code",
      "metadata": {
        "colab": {
          "base_uri": "https://localhost:8080/",
          "height": 351
        },
        "id": "YXqDaETBwS6e",
        "outputId": "92019e34-a59d-4724-dddb-905df43b57fe"
      },
      "source": [
        "# 判断截尾，但是人工可能不准确\n",
        "# AR系数用PACF，MA系数用ACF，观察最早vanish到y=0的阶\n",
        "\n",
        "lag_acf = acf(HSI['Return'].values, nlags=20)\n",
        "lag_pacf = pacf(HSI['Return'].values, nlags=20, method='ols')\n",
        "\n",
        "#Plot ACF:\n",
        "plt.subplot(121)\n",
        "plt.plot(lag_acf)\n",
        "plt.axhline(y=0, linestyle='--', color='gray')\n",
        "plt.axhline(y=-1.96/np.sqrt(len(HSI['Return'].values)), linestyle='--', color='gray')\n",
        "plt.axhline(y=1.96/np.sqrt(len(HSI['Return'].values)), linestyle='--', color='gray')\n",
        "plt.title('Autocorrelation Function')            \n",
        "\n",
        "#Plot PACF\n",
        "plt.subplot(122)\n",
        "plt.plot(lag_pacf)\n",
        "plt.axhline(y=0, linestyle='--', color='gray')\n",
        "plt.axhline(y=-1.96/np.sqrt(len(HSI['Return'].values)), linestyle='--', color='gray')\n",
        "plt.axhline(y=1.96/np.sqrt(len(HSI['Return'].values)), linestyle='--', color='gray')\n",
        "plt.title('Partial Autocorrelation Function')\n",
        "            \n",
        "plt.tight_layout()    "
      ],
      "execution_count": null,
      "outputs": [
        {
          "output_type": "stream",
          "name": "stderr",
          "text": [
            "/usr/local/lib/python3.7/dist-packages/statsmodels/tsa/stattools.py:541: FutureWarning: fft=True will become the default in a future version of statsmodels. To suppress this warning, explicitly set fft=False.\n",
            "  warnings.warn(msg, FutureWarning)\n"
          ]
        },
        {
          "output_type": "display_data",
          "data": {
            "image/png": "[encoded data removed]",
            "text/plain": [
              "<Figure size 432x288 with 2 Axes>"
            ]
          },
          "metadata": {
            "needs_background": "light"
          }
        }
      ]
    },
    {
      "cell_type": "code",
      "metadata": {
        "id": "puhm9p3By_j7"
      },
      "source": [
        "sm.tsa.stattools.arma_order_select_ic(HSI['Return'].values, max_ar=4, max_ma=4, ic='aic')"
      ],
      "execution_count": null,
      "outputs": []
    },
    {
      "cell_type": "markdown",
      "metadata": {
        "id": "j-nj00uX2W_n"
      },
      "source": [
        "### 拟合"
      ]
    },
    {
      "cell_type": "code",
      "metadata": {
        "id": "1esYsh4YYj-x"
      },
      "source": [
        "model = ARMA(HSI['Return'].values, order=(3,1)).fit()"
      ],
      "execution_count": null,
      "outputs": []
    },
    {
      "cell_type": "code",
      "metadata": {
        "id": "O-9NJzAG2oLU"
      },
      "source": [
        "ret_pred = model.predict()"
      ],
      "execution_count": null,
      "outputs": []
    },
    {
      "cell_type": "code",
      "metadata": {
        "id": "NoHdx8OD4wOM"
      },
      "source": [
        "r2_score(HSI['Return'].values, ret_pred)"
      ],
      "execution_count": null,
      "outputs": []
    }
  ]
}